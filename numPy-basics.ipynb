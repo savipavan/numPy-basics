{
 "cells": [
  {
   "cell_type": "markdown",
   "id": "f4d03a58-460b-49eb-b99f-8280aa62d25d",
   "metadata": {},
   "source": [
    "# Introduction to NumPy"
   ]
  },
  {
   "cell_type": "markdown",
   "id": "c2cadf16-e5eb-4fa4-b23e-fc2ecaf75e27",
   "metadata": {},
   "source": [
    "## Installing & Updating the Package"
   ]
  },
  {
   "cell_type": "markdown",
   "id": "e49cbac7-8f13-46b1-a454-8226eb42ea7f",
   "metadata": {},
   "source": [
    "NumPy comes pre-isntalled if you're using Anaconda. pip install numpy\n",
    "\n",
    "To get the latest version: pip install numpy --upgrade"
   ]
  },
  {
   "cell_type": "code",
   "execution_count": 3,
   "id": "22540afe-d09e-472f-abec-1bedbb153bff",
   "metadata": {},
   "outputs": [
    {
     "name": "stdout",
     "output_type": "stream",
     "text": [
      "Requirement already satisfied: numpy in c:\\users\\varri\\appdata\\local\\programs\\python\\python312\\lib\\site-packages (2.0.1)\n"
     ]
    },
    {
     "name": "stderr",
     "output_type": "stream",
     "text": [
      "\n",
      "[notice] A new release of pip is available: 24.0 -> 24.2\n",
      "[notice] To update, run: python.exe -m pip install --upgrade pip\n"
     ]
    }
   ],
   "source": [
    "!pip install numpy"
   ]
  },
  {
   "cell_type": "code",
   "execution_count": 4,
   "id": "2688f00e-ce35-4286-9beb-8d6aaf91477b",
   "metadata": {},
   "outputs": [
    {
     "name": "stdout",
     "output_type": "stream",
     "text": [
      "2.0.1\n"
     ]
    }
   ],
   "source": [
    "# Check the version\n",
    "import numpy as np\n",
    "print(np.__version__)"
   ]
  },
  {
   "cell_type": "code",
   "execution_count": 5,
   "id": "eafd79e9-1016-45ed-a134-9b90480aabf5",
   "metadata": {},
   "outputs": [],
   "source": [
    "### Importing NumPy"
   ]
  },
  {
   "cell_type": "code",
   "execution_count": 6,
   "id": "6c0f4e9e-2a39-4c0d-9147-a81838f861bf",
   "metadata": {},
   "outputs": [],
   "source": [
    "import numpy as np\n",
    "\n",
    "## We import packages libraries with \"import name_of_packagge\".\n",
    "## Using \"as np\" is not mandatory. It's just common practice."
   ]
  },
  {
   "cell_type": "markdown",
   "id": "0d2a5fa4-a0f4-4782-98fe-dfc1bd09d2f1",
   "metadata": {},
   "source": [
    "### Using NumPy"
   ]
  },
  {
   "cell_type": "code",
   "execution_count": 7,
   "id": "c9ac696c-edb5-47c9-8ccb-817d89cda3bb",
   "metadata": {},
   "outputs": [],
   "source": [
    "array_a = np.array([1,2,3])\n",
    "\n",
    "## \"np.\" -> Signals this is a NumPy function, since we imported the package as \"np\".\n",
    "## np.array() creates an array with the values we input."
   ]
  },
  {
   "cell_type": "code",
   "execution_count": 8,
   "id": "1f7fc015-a824-43be-92b8-437226fbee2a",
   "metadata": {},
   "outputs": [
    {
     "data": {
      "text/plain": [
       "array([1, 2, 3])"
      ]
     },
     "execution_count": 8,
     "metadata": {},
     "output_type": "execute_result"
    }
   ],
   "source": [
    "array_a\n",
    "\n",
    "## Displays the variable (unique to Jupyter)."
   ]
  },
  {
   "cell_type": "code",
   "execution_count": 9,
   "id": "95902307-804e-495f-af80-bd526e9dbc46",
   "metadata": {},
   "outputs": [
    {
     "data": {
      "text/plain": [
       "array([[1, 2, 3],\n",
       "       [4, 5, 6]])"
      ]
     },
     "execution_count": 9,
     "metadata": {},
     "output_type": "execute_result"
    }
   ],
   "source": [
    "array_b = np.array([[1,2,3],[4,5,6]])\n",
    "array_b"
   ]
  },
  {
   "cell_type": "markdown",
   "id": "e4d34ecd-a3b6-40ca-839a-a9f9424f1e14",
   "metadata": {},
   "source": [
    "### NumPy Documentation\n",
    "https://numpy.org/devdocs/ <- <i> A link to the NumPy documentation"
   ]
  },
  {
   "cell_type": "code",
   "execution_count": null,
   "id": "59564f4b-7363-4567-8835-7f3eb74b72c3",
   "metadata": {},
   "outputs": [],
   "source": [
    "np.mean(array_b, axis = 0)\n",
    "\n",
    "## The np.mean() function takes an array and returns its algebraic mean.\n",
    "## Axis 0 -> We're running this function over each column."
   ]
  },
  {
   "cell_type": "code",
   "execution_count": null,
   "id": "ba041bf1-2cba-446e-9638-fa75ef9d0e78",
   "metadata": {},
   "outputs": [],
   "source": []
  },
  {
   "cell_type": "code",
   "execution_count": null,
   "id": "53daf04d-e7f5-4578-9a61-0020e15bb718",
   "metadata": {},
   "outputs": [],
   "source": []
  },
  {
   "cell_type": "code",
   "execution_count": null,
   "id": "7a83830f-4690-49de-9752-647b57043a75",
   "metadata": {},
   "outputs": [],
   "source": [
    "# Why NumPy?"
   ]
  },
  {
   "cell_type": "code",
   "execution_count": null,
   "id": "d85fa476-c3d5-4b18-9a43-bddfac688104",
   "metadata": {},
   "outputs": [],
   "source": [
    "import numpy as np"
   ]
  },
  {
   "cell_type": "code",
   "execution_count": null,
   "id": "19794c52-1b13-4337-80eb-0eca65efec62",
   "metadata": {},
   "outputs": [],
   "source": [
    "### Ndarrays"
   ]
  },
  {
   "cell_type": "code",
   "execution_count": null,
   "id": "33dbfe25-1e67-4014-b243-5b6b8840d3ea",
   "metadata": {},
   "outputs": [],
   "source": [
    "array_a = np.array([1,2,3])"
   ]
  },
  {
   "cell_type": "code",
   "execution_count": null,
   "id": "3bbec53c-dd92-49eb-ba7b-2e83a1def5bb",
   "metadata": {},
   "outputs": [],
   "source": [
    "print(array_a)"
   ]
  },
  {
   "cell_type": "code",
   "execution_count": null,
   "id": "b8c75326-04ea-44ca-b593-61bfcb029942",
   "metadata": {},
   "outputs": [],
   "source": [
    "type(array_a)"
   ]
  },
  {
   "cell_type": "code",
   "execution_count": null,
   "id": "412bd51d-6f44-423d-8cff-185655447697",
   "metadata": {},
   "outputs": [],
   "source": [
    "array_a.shape\n",
    "\n",
    "## \"shape\" is an attribute of the ndarray, rather than a method, so it's not callable (doesn't need \"()\" at the end)"
   ]
  },
  {
   "cell_type": "code",
   "execution_count": null,
   "id": "7a7483a6-c415-419f-85d1-ac7f37407f5d",
   "metadata": {},
   "outputs": [],
   "source": [
    "array_b = np.array([[7,8,9],[10,11,12]])"
   ]
  },
  {
   "cell_type": "code",
   "execution_count": null,
   "id": "6926f0b5-5298-42f0-b930-b5fd3fef63f7",
   "metadata": {},
   "outputs": [],
   "source": [
    "type(array_b)"
   ]
  },
  {
   "cell_type": "code",
   "execution_count": null,
   "id": "d3b90dd8-d962-4aec-ac34-eb8b10afc841",
   "metadata": {},
   "outputs": [],
   "source": [
    "print(array_b)"
   ]
  },
  {
   "cell_type": "code",
   "execution_count": null,
   "id": "96b2f1e3-bee9-4d0d-95ac-061a54c654d2",
   "metadata": {},
   "outputs": [],
   "source": [
    "array_b.shape\n",
    "#array_b.shape[0]\n",
    "#array_b.shape[1]\n",
    "\n",
    "## We can use indexing to get a specific part of the output tuple. "
   ]
  },
  {
   "cell_type": "code",
   "execution_count": null,
   "id": "0f47699c-8af7-4f2e-ab56-fce6f7c55e89",
   "metadata": {},
   "outputs": [],
   "source": [
    "array_c = np.array(13)"
   ]
  },
  {
   "cell_type": "code",
   "execution_count": null,
   "id": "2c8df45c-494c-4709-a49c-32a10af95f26",
   "metadata": {},
   "outputs": [],
   "source": [
    "type(array_c)\n",
    "\n",
    "## array_c is a 0-D array"
   ]
  },
  {
   "cell_type": "code",
   "execution_count": null,
   "id": "90d662af-cba9-42c1-adec-ff85a0fb8ce4",
   "metadata": {},
   "outputs": [],
   "source": [
    "print(array_c)"
   ]
  },
  {
   "cell_type": "code",
   "execution_count": null,
   "id": "574225ed-a273-4968-901e-6cbe683abdbe",
   "metadata": {},
   "outputs": [],
   "source": [
    "array_c.shape"
   ]
  },
  {
   "cell_type": "code",
   "execution_count": null,
   "id": "51817f7f-da9b-4fc4-a9cf-5474c202bdac",
   "metadata": {},
   "outputs": [],
   "source": [
    "array_d = np.array([15])\n",
    "\n",
    "## We can add square brackets to assign the right number of dimensions to the array we're creating."
   ]
  },
  {
   "cell_type": "code",
   "execution_count": null,
   "id": "12c66c5c-5ccf-4b5f-a38e-ab7b0abfeb07",
   "metadata": {},
   "outputs": [],
   "source": [
    "type(array_d)"
   ]
  },
  {
   "cell_type": "code",
   "execution_count": null,
   "id": "234af38b-33a7-4868-84e5-37c413d6c1c6",
   "metadata": {},
   "outputs": [],
   "source": [
    "print(array_d)"
   ]
  },
  {
   "cell_type": "code",
   "execution_count": null,
   "id": "6a87b14b-5ac2-4c7b-b952-6d44c8ca6f11",
   "metadata": {},
   "outputs": [],
   "source": [
    "array_d.shape\n",
    "\n",
    "## Similar to array_a from the start of the lecture \"(3,)\". It's because array_d is a vector of size 1, rather than a scalar."
   ]
  },
  {
   "cell_type": "code",
   "execution_count": null,
   "id": "f1b6d5b8-39de-4dd5-ac37-5ed9e36c5bc8",
   "metadata": {},
   "outputs": [],
   "source": [
    "array_e = np.array([[15]])\n",
    "array_e"
   ]
  },
  {
   "cell_type": "markdown",
   "id": "e23ea4d4-a485-48db-99ff-6aa25c326813",
   "metadata": {},
   "source": [
    "### List vs Array"
   ]
  },
  {
   "cell_type": "code",
   "execution_count": null,
   "id": "c8b9306e-a4e5-4e63-acfa-c3e7c53d19b6",
   "metadata": {},
   "outputs": [],
   "source": [
    "#list_a = [[1,2,3,4,5,6]]\n",
    "list_a = [[1,2,3],[4,5,6]]\n",
    "\n",
    "## Syntax for creating lists is similar to syntax for creating arrays."
   ]
  },
  {
   "cell_type": "code",
   "execution_count": null,
   "id": "57f793bc-c49d-4cf1-b6a7-8c43b4e95435",
   "metadata": {},
   "outputs": [],
   "source": [
    "len(list_a)\n",
    "\n",
    "## The length is 2 because we're only counting the sublists of list_a. "
   ]
  },
  {
   "cell_type": "code",
   "execution_count": null,
   "id": "a48fdd76-806e-491e-a307-f1855e024c00",
   "metadata": {},
   "outputs": [],
   "source": [
    "array_a = np.array(list_a)"
   ]
  },
  {
   "cell_type": "code",
   "execution_count": null,
   "id": "c30e8688-2e9a-4d3a-9cc6-859327dd766b",
   "metadata": {},
   "outputs": [],
   "source": [
    "type(list_a)"
   ]
  },
  {
   "cell_type": "code",
   "execution_count": null,
   "id": "bc94e42d-fba4-4f64-b367-63edcc8e2445",
   "metadata": {},
   "outputs": [],
   "source": [
    "type(array_a)"
   ]
  },
  {
   "cell_type": "code",
   "execution_count": null,
   "id": "5565e3e5-8954-4e93-82f3-b12f74fdb8de",
   "metadata": {},
   "outputs": [],
   "source": [
    "print(list_a)"
   ]
  },
  {
   "cell_type": "code",
   "execution_count": null,
   "id": "da1b479d-43ef-462f-b3b2-f46d5f319a7d",
   "metadata": {},
   "outputs": [],
   "source": [
    "print(array_a)"
   ]
  },
  {
   "cell_type": "code",
   "execution_count": null,
   "id": "df61840e-7ff6-4eb9-bcaf-5c640fcc1c27",
   "metadata": {},
   "outputs": [],
   "source": [
    "array_a.shape"
   ]
  },
  {
   "cell_type": "code",
   "execution_count": null,
   "id": "cef8bdea-40b8-44e8-a25e-236b47a8467d",
   "metadata": {},
   "outputs": [],
   "source": [
    "# list_a.shape results in an error because lists don't have a shape.\n",
    "#len(list_a)\n",
    "\n",
    "len(list_a[1])\n",
    "\n",
    "## We can use indexing to refer to a specific sublists out of a list. "
   ]
  },
  {
   "cell_type": "code",
   "execution_count": null,
   "id": "fe6d519c-313b-4051-913b-e8cb0085c57f",
   "metadata": {},
   "outputs": [],
   "source": [
    "list_a"
   ]
  },
  {
   "cell_type": "code",
   "execution_count": null,
   "id": "9c7d9b8d-902a-4820-aa83-45348d605f7d",
   "metadata": {},
   "outputs": [],
   "source": [
    "array_a"
   ]
  },
  {
   "cell_type": "code",
   "execution_count": null,
   "id": "c7bb9d76-0d3c-4549-821f-69632cafbfa9",
   "metadata": {},
   "outputs": [],
   "source": [
    "list_b = list_a[0] + list_a[1]\n",
    "array_b = array_a[0] + array_a[1]"
   ]
  },
  {
   "cell_type": "code",
   "execution_count": null,
   "id": "5f13d0ba-790f-448a-a3b2-f069dc9f0de7",
   "metadata": {},
   "outputs": [],
   "source": [
    "print(list_b)\n",
    "\n",
    "## The primary purpose of lists is to store data, so list_b concatenates the rows of list_a."
   ]
  },
  {
   "cell_type": "code",
   "execution_count": null,
   "id": "e2771871-7908-4e30-823e-31e8426fc819",
   "metadata": {},
   "outputs": [],
   "source": [
    "print(array_b)\n",
    "\n",
    "## The primary purpose of arrays is computational, so array_b adds the values elementwise."
   ]
  },
  {
   "cell_type": "code",
   "execution_count": null,
   "id": "7360524e-6746-4955-98c0-d07a2144cdfb",
   "metadata": {},
   "outputs": [],
   "source": [
    "import math\n",
    "# array_e = math.sqrt(list_a)       # We can't provide an entire list as the input.\n",
    "# array_e = math.sqrt(list_a[1,0])  # Even individual elements of a list result in an error. \n",
    "array_e = math.sqrt(array_a[1,0])\n",
    "print(array_e)\n",
    "\n",
    "## The \"e\" in \"array_e\" stands for \"example\"."
   ]
  },
  {
   "cell_type": "code",
   "execution_count": 10,
   "id": "b7821e9b-c13e-4d50-855d-6e55681f7198",
   "metadata": {},
   "outputs": [
    {
     "data": {
      "text/plain": [
       "array([1.        , 1.41421356, 1.73205081])"
      ]
     },
     "execution_count": 10,
     "metadata": {},
     "output_type": "execute_result"
    }
   ],
   "source": [
    "np.sqrt(array_a)\n",
    "\n",
    "## The square root function computes the square root for every element of the array. "
   ]
  },
  {
   "cell_type": "code",
   "execution_count": null,
   "id": "8caa6af0-0bdb-428c-ba36-c24355180301",
   "metadata": {},
   "outputs": [],
   "source": []
  },
  {
   "cell_type": "code",
   "execution_count": null,
   "id": "c97badfc-d340-4279-8083-c3544af5cc3b",
   "metadata": {},
   "outputs": [],
   "source": []
  },
  {
   "cell_type": "code",
   "execution_count": null,
   "id": "7296c5c1-0db6-4bc6-9bf7-38b77c4418f0",
   "metadata": {},
   "outputs": [],
   "source": []
  },
  {
   "cell_type": "code",
   "execution_count": null,
   "id": "4704867d-2245-420c-a21e-2d31b1f6741a",
   "metadata": {},
   "outputs": [],
   "source": [
    "# NumPy Fundamentals"
   ]
  },
  {
   "cell_type": "code",
   "execution_count": null,
   "id": "52dc8093-f375-40e9-b162-2543c7717d54",
   "metadata": {},
   "outputs": [],
   "source": [
    "import numpy as np"
   ]
  },
  {
   "cell_type": "code",
   "execution_count": null,
   "id": "8a5b4585-0cff-463e-b4a0-0e38a4d5c963",
   "metadata": {},
   "outputs": [],
   "source": [
    "## Indexing"
   ]
  },
  {
   "cell_type": "code",
   "execution_count": null,
   "id": "43b79b3e-2b33-4ad6-912f-38cc3b47dfd1",
   "metadata": {},
   "outputs": [],
   "source": [
    "array_a = np.array([[1,2,3],[4,5,6]])\n",
    "array_a"
   ]
  },
  {
   "cell_type": "code",
   "execution_count": null,
   "id": "07b63f5e-a99f-4b94-92fe-0418d343f8e7",
   "metadata": {},
   "outputs": [],
   "source": [
    "### Specific Values"
   ]
  },
  {
   "cell_type": "code",
   "execution_count": null,
   "id": "3b0c553a-de3e-40da-88ad-57499c1c1ec7",
   "metadata": {},
   "outputs": [],
   "source": [
    "array_a[1]\n",
    "\n",
    "## By adding numbers between square brackets, we can reference specific values of the array. \n",
    "## Python uses 0-indexing, so the first position has an index 0, the second position has index 1, and so on."
   ]
  },
  {
   "cell_type": "code",
   "execution_count": null,
   "id": "d86e1f01-2140-425a-ba2e-0be5d2ff1013",
   "metadata": {},
   "outputs": [],
   "source": [
    "array_a[1][0]\n",
    "\n",
    "## We can index every dimension of the array separately. "
   ]
  },
  {
   "cell_type": "code",
   "execution_count": null,
   "id": "5b3c4e3d-19a3-4896-939c-0b1ee21dbbe3",
   "metadata": {},
   "outputs": [],
   "source": [
    "array_a[1,0]\n",
    "\n",
    "## [1,0] is equivalent to [1][0] "
   ]
  },
  {
   "cell_type": "code",
   "execution_count": null,
   "id": "b07fd21d-77c6-43d4-b1f4-2366b21c3d3d",
   "metadata": {},
   "outputs": [],
   "source": [
    "array_a[:,0]\n",
    "\n",
    "## The \":\" is equivalent to \"from start to end\" in this context. "
   ]
  },
  {
   "cell_type": "code",
   "execution_count": null,
   "id": "3d695512-817e-4f27-a7be-b592dbcbe7e0",
   "metadata": {},
   "outputs": [],
   "source": [
    "### Negative Indices"
   ]
  },
  {
   "cell_type": "code",
   "execution_count": null,
   "id": "71c8b93e-e5d6-4e69-8838-74357f8d7e07",
   "metadata": {},
   "outputs": [],
   "source": [
    "array_b = np.array([1,2,3])\n",
    "array_b[-1]\n",
    "\n",
    "## Negative indices mean traversing from the back. \n",
    "## No such thing as  -0 , so the first negative index is -1."
   ]
  },
  {
   "cell_type": "code",
   "execution_count": null,
   "id": "a29b8e80-d271-4844-83f8-915dc9e0a931",
   "metadata": {},
   "outputs": [],
   "source": [
    "array_a"
   ]
  },
  {
   "cell_type": "code",
   "execution_count": null,
   "id": "5e123b82-2dc1-4adb-b77e-1b345e334432",
   "metadata": {},
   "outputs": [],
   "source": [
    "array_a[-1]"
   ]
  },
  {
   "cell_type": "code",
   "execution_count": null,
   "id": "12f5656f-fde9-4575-8201-217a4eaa99e1",
   "metadata": {},
   "outputs": [],
   "source": [
    "# array_a[-3] \n",
    "# Goes out of bounds, since -3 implies there are 3 rows. "
   ]
  },
  {
   "cell_type": "code",
   "execution_count": null,
   "id": "483b63f6-7c42-41b1-9d31-396d2f49b6ee",
   "metadata": {},
   "outputs": [],
   "source": [
    "## Assigning Values"
   ]
  },
  {
   "cell_type": "code",
   "execution_count": null,
   "id": "5b40209b-3bd7-4013-8f32-047cd1bf1cb5",
   "metadata": {},
   "outputs": [],
   "source": [
    "array_a = np.array([[1,2,3],[4,5,6]])\n",
    "array_a"
   ]
  },
  {
   "cell_type": "code",
   "execution_count": null,
   "id": "58468a91-1363-49a7-b9fd-f5123febbd51",
   "metadata": {},
   "outputs": [],
   "source": [
    "array_a[0,2] = 9\n",
    "array_a \n",
    "\n",
    "## Assign a value to an individual element."
   ]
  },
  {
   "cell_type": "code",
   "execution_count": null,
   "id": "bef41fe5-ce87-4f16-8b08-bd9885e4ba36",
   "metadata": {},
   "outputs": [],
   "source": [
    "array_a[0] = 9\n",
    "array_a\n",
    "\n",
    "## Assign a value to an entire row."
   ]
  },
  {
   "cell_type": "code",
   "execution_count": null,
   "id": "2a7fc877-8f31-41b1-ae0a-8f4bdb81dc91",
   "metadata": {},
   "outputs": [],
   "source": [
    "array_a[:,0] = 9\n",
    "array_a\n",
    "\n",
    "## Assign a value to an entire column."
   ]
  },
  {
   "cell_type": "code",
   "execution_count": null,
   "id": "ea05ebdc-fc6c-4c54-93d9-95be850bcc02",
   "metadata": {},
   "outputs": [],
   "source": [
    "list_a = [8,7,8]\n",
    "\n",
    "array_a[0] = list_a\n",
    "array_a\n",
    "\n",
    "## Assign different values to an entire row via a list. "
   ]
  },
  {
   "cell_type": "code",
   "execution_count": null,
   "id": "e8644071-a5e2-48f1-bf27-f7c1c481e762",
   "metadata": {},
   "outputs": [],
   "source": [
    "type(array_a[0])"
   ]
  },
  {
   "cell_type": "code",
   "execution_count": null,
   "id": "7c50893c-f1b7-4607-821f-23421c1f29da",
   "metadata": {},
   "outputs": [],
   "source": [
    "array_a[:] = 9\n",
    "array_a\n",
    "\n",
    "## Assign the same value to all the individual elements in the array."
   ]
  },
  {
   "cell_type": "code",
   "execution_count": null,
   "id": "7aef68a4-3a92-4cf4-9c51-252eadfb5bf7",
   "metadata": {},
   "outputs": [],
   "source": [
    "array_a = 9\n",
    "array_a\n",
    "\n",
    "## Type assignment in Python is dynamic. Hence, a variable's type can change based on what values we assign to it. \n",
    "## Here, array_a changes from an ndarray to an integer."
   ]
  },
  {
   "cell_type": "code",
   "execution_count": null,
   "id": "fe32b5ea-80a3-4e78-bbed-8bdf80c71aed",
   "metadata": {},
   "outputs": [],
   "source": [
    "type(array_a)"
   ]
  },
  {
   "cell_type": "code",
   "execution_count": null,
   "id": "480972f0-aabd-4e86-a4a6-8bb92ce2bf41",
   "metadata": {},
   "outputs": [],
   "source": [
    "array_a = np.array([[1,2,3],[4,5,6]])\n",
    "array_a"
   ]
  },
  {
   "cell_type": "code",
   "execution_count": null,
   "id": "6a523f13-ce23-43f5-bcb1-c9c119a5adc1",
   "metadata": {},
   "outputs": [],
   "source": []
  },
  {
   "cell_type": "code",
   "execution_count": null,
   "id": "34c82f86-e22f-4cbd-92ee-da85857469ec",
   "metadata": {},
   "outputs": [],
   "source": [
    "## Elementwise Properties"
   ]
  },
  {
   "cell_type": "code",
   "execution_count": null,
   "id": "24b23b5e-f864-4b1f-adeb-93f4cf0a772d",
   "metadata": {},
   "outputs": [],
   "source": [
    "array_a = np.array([7,8,9])\n",
    "array_a"
   ]
  },
  {
   "cell_type": "code",
   "execution_count": null,
   "id": "4d434420-0cf0-4948-a186-06d4f9fad815",
   "metadata": {},
   "outputs": [],
   "source": [
    "array_b = np.array([[1,2,3],[4,5,6]])\n",
    "array_b"
   ]
  },
  {
   "cell_type": "code",
   "execution_count": null,
   "id": "c08aef7a-c28e-4ebe-b2d3-ec2e13313c52",
   "metadata": {},
   "outputs": [],
   "source": [
    "array_b * 2\n",
    "\n",
    "## Multiplying each element of array_b by 2"
   ]
  },
  {
   "cell_type": "code",
   "execution_count": null,
   "id": "4a67926e-453e-4125-b98a-d1a49b192b8e",
   "metadata": {},
   "outputs": [],
   "source": [
    "list_a = [1,2,3]\n",
    "list_a + [2]\n",
    "\n",
    "## Since lists don't work elementwise, we're concatenating [2] to list_a."
   ]
  },
  {
   "cell_type": "code",
   "execution_count": null,
   "id": "b7193ed2-6025-4f82-94f5-a3ba0ff8098c",
   "metadata": {},
   "outputs": [],
   "source": [
    "array_a + 2\n",
    "\n",
    "## Elementwise addition adds 2 to each element of array_a."
   ]
  },
  {
   "cell_type": "code",
   "execution_count": null,
   "id": "d21e72ff-23a6-41c1-ae7b-e55c24cf87ba",
   "metadata": {},
   "outputs": [],
   "source": [
    "array_a * array_b[1]\n",
    "\n",
    "## Elementwise multiplication. \n",
    "## We multiply each individual element of array_a by its corresponding element in the second row of array_b."
   ]
  },
  {
   "cell_type": "code",
   "execution_count": null,
   "id": "59e33ea7-0afd-4684-95bc-191463a8e4e7",
   "metadata": {},
   "outputs": [],
   "source": [
    "array_b - array_a\n",
    "\n",
    "## The order of the elements matters for elementwise subtraction, division, as well as other operations. "
   ]
  },
  {
   "cell_type": "code",
   "execution_count": null,
   "id": "ca78ef2c-116f-4f94-b898-2a2050d93440",
   "metadata": {},
   "outputs": [],
   "source": [
    "## Types of Data Supported by NumPy"
   ]
  },
  {
   "cell_type": "code",
   "execution_count": null,
   "id": "5be8abf9-2625-4b5b-9d6b-d3fdd1882e10",
   "metadata": {},
   "outputs": [],
   "source": [
    "array_a = np.array([[1,2,3],[4,5,6]])\n",
    "array_a"
   ]
  },
  {
   "cell_type": "code",
   "execution_count": null,
   "id": "8db78831-08b5-4c8e-8d3b-8bef832cf7ed",
   "metadata": {},
   "outputs": [],
   "source": [
    "array_a = np.array([[1,2,3],[4,5,6]], dtype = np.float16)\n",
    "array_a\n",
    "\n",
    "# Defining all the values as floats (decimals)."
   ]
  },
  {
   "cell_type": "code",
   "execution_count": null,
   "id": "6f728916-fd83-4041-bd83-373a34751673",
   "metadata": {},
   "outputs": [],
   "source": [
    "array_a = np.array([[1,2,3],[4,5,6]], dtype = np.complex64)\n",
    "array_a\n",
    "\n",
    "# Defining all the values as complex numbers."
   ]
  },
  {
   "cell_type": "code",
   "execution_count": null,
   "id": "00971208-c28d-4f17-82fd-afaa8c4ed551",
   "metadata": {},
   "outputs": [],
   "source": [
    "array_a = np.array([[1,2,0],[4,5,6]], dtype = np.bool)\n",
    "array_a\n",
    "\n",
    "# Defining all the values as Booleans."
   ]
  },
  {
   "cell_type": "code",
   "execution_count": null,
   "id": "163ffdaf-efa8-48ac-9c7b-8df7e0b20d9f",
   "metadata": {},
   "outputs": [],
   "source": [
    "array_a = np.array([[10,2,3],[4,5,6]], dtype = np.str)\n",
    "array_a\n",
    "\n",
    "# Defining all the values as text."
   ]
  },
  {
   "cell_type": "code",
   "execution_count": null,
   "id": "ae3f4206-3aaf-41b9-8b37-f1e460d5fbd4",
   "metadata": {},
   "outputs": [],
   "source": [
    "https://numpy.org/devdocs/reference/generated/numpy.dtype.kind.html <- A link to the documentation explaining the unicode abbreviation."
   ]
  },
  {
   "cell_type": "code",
   "execution_count": null,
   "id": "8db0cc8c-a16b-466e-888b-818ad5792d10",
   "metadata": {},
   "outputs": [],
   "source": []
  },
  {
   "cell_type": "code",
   "execution_count": null,
   "id": "654cff44-8e38-4ac5-872b-ac89d1bfc9d9",
   "metadata": {},
   "outputs": [],
   "source": [
    "## Characteristics of NumPy Functions"
   ]
  },
  {
   "cell_type": "code",
   "execution_count": null,
   "id": "082fd163-0cf3-4a6c-969d-3ed1e2d0a774",
   "metadata": {},
   "outputs": [],
   "source": [
    "### Universal Functions"
   ]
  },
  {
   "cell_type": "code",
   "execution_count": null,
   "id": "6e62da25-8976-4abf-becb-4402a611c0a9",
   "metadata": {},
   "outputs": [],
   "source": [
    "https://numpy.org/devdocs/reference/ufuncs.html <- <i> A link to the documentation page on Universal Functions"
   ]
  },
  {
   "cell_type": "code",
   "execution_count": null,
   "id": "2551fd3b-9048-42dd-ad90-3c77ae08e984",
   "metadata": {},
   "outputs": [],
   "source": [
    "### Broadcasting"
   ]
  },
  {
   "cell_type": "code",
   "execution_count": null,
   "id": "56bcc27e-ca96-42c7-ad87-51a08449d9c0",
   "metadata": {},
   "outputs": [],
   "source": [
    "array_a = np.array([1,2,3])\n",
    "array_a"
   ]
  },
  {
   "cell_type": "code",
   "execution_count": null,
   "id": "ea5daa72-0261-4e0c-8f16-18a3572261c7",
   "metadata": {},
   "outputs": [],
   "source": [
    "array_b = np.array([[1],[2]])\n",
    "array_b"
   ]
  },
  {
   "cell_type": "code",
   "execution_count": null,
   "id": "ddfb71bf-d9ca-4c6d-b5df-a808c9a437cc",
   "metadata": {},
   "outputs": [],
   "source": [
    "matrix_C = np.array([[1,2,3],[4,5,6]])\n",
    "matrix_C"
   ]
  },
  {
   "cell_type": "code",
   "execution_count": null,
   "id": "827b761a-c567-4a46-b941-d65e64b168ee",
   "metadata": {},
   "outputs": [],
   "source": [
    "np.add(array_b, matrix_C)\n",
    "\n",
    "## Adding up values, even though the arrays don't have matching shapes. "
   ]
  },
  {
   "cell_type": "code",
   "execution_count": null,
   "id": "94dcfa20-0998-4a32-b971-2eea8d27c0cf",
   "metadata": {},
   "outputs": [],
   "source": [
    "### Type Casting"
   ]
  },
  {
   "cell_type": "code",
   "execution_count": null,
   "id": "36d265e8-b9c4-4447-ae99-3b64088e0ad7",
   "metadata": {},
   "outputs": [],
   "source": [
    "np.add(array_b, matrix_C, dtype = np.float64)\n",
    "\n",
    "## We can define the datatyep"
   ]
  },
  {
   "cell_type": "code",
   "execution_count": null,
   "id": "ada1b22a-edae-404e-a99c-4dded4ada6b2",
   "metadata": {},
   "outputs": [],
   "source": [
    "### Running over an Axis"
   ]
  },
  {
   "cell_type": "code",
   "execution_count": null,
   "id": "e446a8c9-8928-4e04-8ae1-e3a6e3af205b",
   "metadata": {},
   "outputs": [],
   "source": [
    "np.mean(matrix_C, axis = 1)\n",
    "\n",
    "## Axis = 0 runs the function over every column. \n",
    "## Axis = 1 runs the function over every row. "
   ]
  },
  {
   "cell_type": "code",
   "execution_count": null,
   "id": "1676fd30-bdd0-4aac-be4c-44c97810b0c5",
   "metadata": {},
   "outputs": [],
   "source": [
    "matrix_C "
   ]
  },
  {
   "cell_type": "code",
   "execution_count": null,
   "id": "a344b1d9-0173-4484-9cad-39f44ded38a2",
   "metadata": {},
   "outputs": [],
   "source": []
  },
  {
   "cell_type": "code",
   "execution_count": null,
   "id": "bd8be5df-39f1-4488-a332-fa71132d12c1",
   "metadata": {},
   "outputs": [],
   "source": [
    "# Working with Arrays"
   ]
  },
  {
   "cell_type": "code",
   "execution_count": null,
   "id": "891c70ad-be37-4d59-aa59-e7e55bdcd316",
   "metadata": {},
   "outputs": [],
   "source": [
    "## Slicing"
   ]
  },
  {
   "cell_type": "code",
   "execution_count": null,
   "id": "cc8ed631-df19-46c1-b5a9-a478cf3bc45a",
   "metadata": {},
   "outputs": [],
   "source": [
    "matrix_A = np.array([[1,2,3],[4,5,6]])\n",
    "matrix_A"
   ]
  },
  {
   "cell_type": "code",
   "execution_count": null,
   "id": "07e39dba-d0f1-417e-b3c3-43e22e8aaa52",
   "metadata": {},
   "outputs": [],
   "source": [
    "### Basic Slicing"
   ]
  },
  {
   "cell_type": "code",
   "execution_count": null,
   "id": "79664bc3-6c80-4351-9e5f-9802d8784aa4",
   "metadata": {},
   "outputs": [],
   "source": [
    "matrix_A[:]\n",
    "\n",
    "## The default start and stop for slicing are the origin and the end of the array. \n",
    "## Hence, [:] includes the entire array. "
   ]
  },
  {
   "cell_type": "code",
   "execution_count": null,
   "id": "e506da78-d347-4da0-a9d6-d4bc2f8b765c",
   "metadata": {},
   "outputs": [],
   "source": [
    "type(matrix_A[:,:])\n",
    "\n",
    "## [:,:] -> All rows, and all columns."
   ]
  },
  {
   "cell_type": "code",
   "execution_count": null,
   "id": "fdb96c5a-de4b-4451-adda-7f4b3eeea21d",
   "metadata": {},
   "outputs": [],
   "source": [
    "matrix_A[:2]\n",
    "\n",
    "# [:2] -> All the rows up to the 3rd one (excluding the third one)."
   ]
  },
  {
   "cell_type": "code",
   "execution_count": null,
   "id": "41f970c7-fa30-40f9-a598-d710d872ef26",
   "metadata": {},
   "outputs": [],
   "source": [
    "matrix_A[1]"
   ]
  },
  {
   "cell_type": "code",
   "execution_count": null,
   "id": "1366fb16-5194-4c77-97f0-5efe81df37eb",
   "metadata": {},
   "outputs": [],
   "source": [
    "matrix_A[:-1]\n",
    "\n",
    "# [:-1] -> All the rows up to the last one."
   ]
  },
  {
   "cell_type": "code",
   "execution_count": null,
   "id": "48c111f5-8d7a-4d42-a013-5f749e8dc993",
   "metadata": {},
   "outputs": [],
   "source": [
    "matrix_A[:,1:]\n",
    "\n",
    "# All the rows, but only the columns from the one with index 1 (second column) onwards."
   ]
  },
  {
   "cell_type": "code",
   "execution_count": null,
   "id": "d462e2cc-1bc7-4537-9a96-b48b8a5a1987",
   "metadata": {},
   "outputs": [],
   "source": [
    "matrix_A"
   ]
  },
  {
   "cell_type": "code",
   "execution_count": null,
   "id": "b84cf717-21bb-4131-bf1a-89e580c8e6e2",
   "metadata": {},
   "outputs": [],
   "source": [
    "matrix_A[1:,1:]\n",
    "\n",
    "# All the rows after the first one and all the column after the first one. "
   ]
  },
  {
   "cell_type": "code",
   "execution_count": null,
   "id": "13fea888-58bd-4ce3-b8e0-dc7bac257e4c",
   "metadata": {},
   "outputs": [],
   "source": [
    "### Stepwise Slicing"
   ]
  },
  {
   "cell_type": "code",
   "execution_count": null,
   "id": "db90e075-df80-4d89-b3ae-5026cd9915e4",
   "metadata": {},
   "outputs": [],
   "source": [
    "matrix_B = np.array([[1,1,1,2,0], [3,6,6,7,4], [4,5,3,8,0]])\n",
    "matrix_B"
   ]
  },
  {
   "cell_type": "code",
   "execution_count": null,
   "id": "9f36c8a2-b16e-44b4-9bc1-911a96bc6602",
   "metadata": {},
   "outputs": [],
   "source": [
    "matrix_B[-1::-1,::2]\n",
    "\n",
    "# The syntax for each dimension is \"[start : stop : step]\". \n",
    "# A negative step means we're going through the array in reverse."
   ]
  },
  {
   "cell_type": "code",
   "execution_count": null,
   "id": "1220a120-d517-47d1-86e6-58f36732de6c",
   "metadata": {},
   "outputs": [],
   "source": [
    "### Conditional Slicing"
   ]
  },
  {
   "cell_type": "code",
   "execution_count": null,
   "id": "ff2347f3-b72d-41ec-9536-43a254dc617d",
   "metadata": {},
   "outputs": [],
   "source": [
    "matrix_C = np.array([[1,1,1,2,0], [3,6,6,7,4], [4,5,3,8,0]])\n",
    "matrix_C"
   ]
  },
  {
   "cell_type": "code",
   "execution_count": null,
   "id": "85797e19-9c8c-49d5-b8a8-73e760532ae1",
   "metadata": {},
   "outputs": [],
   "source": [
    "matrix_C[:,0]"
   ]
  },
  {
   "cell_type": "code",
   "execution_count": null,
   "id": "d89b625e-3f11-46a8-9cc9-50097bc538c9",
   "metadata": {},
   "outputs": [],
   "source": [
    "matrix_C[:,0] > 2\n",
    "\n",
    "# Returns True/False based on whether the individual element satisfies the condition. "
   ]
  },
  {
   "cell_type": "code",
   "execution_count": null,
   "id": "2e94249b-0236-48fd-b7ca-5d575f12339c",
   "metadata": {},
   "outputs": [],
   "source": [
    "matrix_C[:,:] > 2\n",
    "\n",
    "# Returns True/False based on whether the individual element satisfies the condition. "
   ]
  },
  {
   "cell_type": "code",
   "execution_count": null,
   "id": "cbe5a077-665e-43a2-83da-a9b3442f8187",
   "metadata": {},
   "outputs": [],
   "source": [
    "matrix_C[matrix_C[:,:] % 2 == 0]\n",
    "\n",
    "# Returns the actual values which satisfy the condition, not simply True or False."
   ]
  },
  {
   "cell_type": "code",
   "execution_count": null,
   "id": "25a94217-3e30-4ac4-8316-00607e55582f",
   "metadata": {},
   "outputs": [],
   "source": [
    "matrix_C[(matrix_C[:,:] % 2 == 0) | (matrix_C[:,:] <= 4)]\n",
    "\n",
    "# We can have more complex conditions, which are comprised of several smaller conditions. \n",
    "# & -> Both conditions must be met. \n",
    "# | -> Either condition can be met. "
   ]
  },
  {
   "cell_type": "code",
   "execution_count": null,
   "id": "43d425b6-cfd1-4c82-928b-899cdb331a62",
   "metadata": {},
   "outputs": [],
   "source": [
    "## Dimensions and the Squeeze Function"
   ]
  },
  {
   "cell_type": "code",
   "execution_count": null,
   "id": "d0edd5d9-f141-4345-b002-d72678f9c0b2",
   "metadata": {},
   "outputs": [],
   "source": [
    "matrix_D = np.array([[1,1,1,2,0], [3,6,6,7,4], [4,5,3,8,0]])\n",
    "matrix_D"
   ]
  },
  {
   "cell_type": "code",
   "execution_count": null,
   "id": "c60761c4-df9e-4fa8-a186-1829ba075082",
   "metadata": {},
   "outputs": [],
   "source": [
    "type(matrix_D[0,0])\n",
    "\n",
    "# Fixing both indices. \n",
    "# 0-D array"
   ]
  },
  {
   "cell_type": "code",
   "execution_count": null,
   "id": "22d4ac15-b099-46db-afb2-c669f08dfa67",
   "metadata": {},
   "outputs": [],
   "source": [
    "print(matrix_D[0,0])"
   ]
  },
  {
   "cell_type": "code",
   "execution_count": null,
   "id": "2b0b2d2a-8c8f-4b2c-8953-818f31c4c886",
   "metadata": {},
   "outputs": [],
   "source": [
    "type(matrix_D[0,0:1])\n",
    "\n",
    "# 1 index is fixed, the second one is a slice\n",
    "# 1-D array"
   ]
  },
  {
   "cell_type": "code",
   "execution_count": null,
   "id": "b406bb23-0bb3-4117-9e55-7f31dbdafd63",
   "metadata": {},
   "outputs": [],
   "source": [
    "print(matrix_D[0,0:1])"
   ]
  },
  {
   "cell_type": "code",
   "execution_count": null,
   "id": "b3054cb5-2a59-40ab-9c2e-486449b60e07",
   "metadata": {},
   "outputs": [],
   "source": [
    "type(matrix_D[0:1,0:1])\n",
    "\n",
    "# Both indices are ranges (slices)\n",
    "# 2-D array"
   ]
  },
  {
   "cell_type": "code",
   "execution_count": null,
   "id": "e45ac1b2-f781-45a4-8a7c-00ae4a06e4cb",
   "metadata": {},
   "outputs": [],
   "source": [
    "print(matrix_D[0:1,0:1])"
   ]
  },
  {
   "cell_type": "code",
   "execution_count": null,
   "id": "b78363f2-3c3d-4d57-b5ac-3ad30d90ba24",
   "metadata": {},
   "outputs": [],
   "source": [
    "print(matrix_D[0,0].shape)\n",
    "print(matrix_D[0,0:1].shape)\n",
    "print(matrix_D[0:1,0:1].shape)\n",
    "\n",
    "# Same value stored in 3 different ways -> 0-D, 1-D and 2-D array"
   ]
  },
  {
   "cell_type": "code",
   "execution_count": null,
   "id": "14345d42-b003-42e9-86a6-0df48d2f3fb7",
   "metadata": {},
   "outputs": [],
   "source": [
    "print(matrix_D[0:1,0:1].squeeze())\n",
    "\n",
    "## Removes excess dimensions"
   ]
  },
  {
   "cell_type": "code",
   "execution_count": null,
   "id": "367835b0-9868-4092-a981-657a29c49a8d",
   "metadata": {},
   "outputs": [],
   "source": [
    "np.squeeze(matrix_D[0:1,0:1])\n",
    "\n",
    "## The function is equivalent to the method. "
   ]
  },
  {
   "cell_type": "code",
   "execution_count": null,
   "id": "f77cf9a1-a2ab-49d8-b3ee-a411546b7cc8",
   "metadata": {},
   "outputs": [],
   "source": [
    "print(matrix_D[0,0].squeeze().shape)\n",
    "print(matrix_D[0,0:1].squeeze().shape)\n",
    "print(matrix_D[0:1,0:1].squeeze().shape)\n",
    "\n",
    "## All excess dimensions are lost and our outputs are aligned. "
   ]
  },
  {
   "cell_type": "code",
   "execution_count": null,
   "id": "8704aced-5932-4071-8509-3fdf0d0f519e",
   "metadata": {},
   "outputs": [],
   "source": []
  },
  {
   "cell_type": "code",
   "execution_count": null,
   "id": "287696c6-0fe7-40cd-bae9-e6c62bd1d271",
   "metadata": {},
   "outputs": [],
   "source": []
  },
  {
   "cell_type": "code",
   "execution_count": null,
   "id": "53497f4e-c749-4717-8f28-4005bf56307b",
   "metadata": {},
   "outputs": [],
   "source": [
    "# Generating Data w/ Numpy"
   ]
  },
  {
   "cell_type": "code",
   "execution_count": null,
   "id": "57301bf6-5ce0-4909-a6ff-4012adba386c",
   "metadata": {},
   "outputs": [],
   "source": [
    "### np.empty(), np.zeros(), np.ones(), np.full()"
   ]
  },
  {
   "cell_type": "code",
   "execution_count": null,
   "id": "e34be928-2867-460f-a1f1-ae9e4d0fd627",
   "metadata": {},
   "outputs": [],
   "source": [
    "array_empty = np.empty(shape = (2,3))\n",
    "array_empty"
   ]
  },
  {
   "cell_type": "code",
   "execution_count": null,
   "id": "932d1400-c163-4bbb-81ab-4f032b4135d7",
   "metadata": {},
   "outputs": [],
   "source": [
    "# zeros\n",
    "array_0s = np.zeros(shape  = (2,3))\n",
    "array_0s"
   ]
  },
  {
   "cell_type": "code",
   "execution_count": null,
   "id": "86e7a74d-8690-4e63-83e1-bff348aea189",
   "metadata": {},
   "outputs": [],
   "source": [
    "array_0s = np.zeros(shape = (2,3), dtype = np.int8) \n",
    "array_0s"
   ]
  },
  {
   "cell_type": "code",
   "execution_count": null,
   "id": "20c73da1-651c-4e03-bc88-5571126b2324",
   "metadata": {},
   "outputs": [],
   "source": [
    "# ones\n",
    "array_1s = np.ones(shape  = (2,3))\n",
    "array_1s"
   ]
  },
  {
   "cell_type": "code",
   "execution_count": null,
   "id": "d7f4560f-dbb1-46a3-a160-4191d788b2a6",
   "metadata": {},
   "outputs": [],
   "source": [
    "# full\n",
    "array_full = np.full(shape = (2,3), fill_value = 2) # One additional mandatory argument - fill_value -> scalar\n",
    "array_full"
   ]
  },
  {
   "cell_type": "code",
   "execution_count": null,
   "id": "673d94bf-0e64-42ce-b2d1-581f16a8b0c1",
   "metadata": {},
   "outputs": [],
   "source": [
    "array_full = np.full(shape = (2,3), fill_value = 'Three-Six-Five')\n",
    "array_full"
   ]
  },
  {
   "cell_type": "code",
   "execution_count": null,
   "id": "e72f6806-c57b-42df-ae8a-2d5f515c6253",
   "metadata": {},
   "outputs": [],
   "source": [
    "### \"_like\" functions"
   ]
  },
  {
   "cell_type": "code",
   "execution_count": null,
   "id": "cdd9814d-b97a-4f73-bbd3-30c513bf9f01",
   "metadata": {},
   "outputs": [],
   "source": [
    "matrix_A = np.array([[1,0,9,2,2],[3,23,4,5,1],[0,2,3,4,1]])\n",
    "matrix_A"
   ]
  },
  {
   "cell_type": "code",
   "execution_count": null,
   "id": "f2f9f7ab-ad45-4a1f-8173-3df2cf7ba8a1",
   "metadata": {},
   "outputs": [],
   "source": [
    "array_empty_like = np.empty_like(matrix_A)    \n",
    "\n",
    "# Shape and type are like the prototype. \n",
    "# If we want to override this, we can define dtype and shape and pass different values (but why even use empty_like then). \n",
    "\n",
    "array_empty_like"
   ]
  },
  {
   "cell_type": "code",
   "execution_count": null,
   "id": "5b8e976d-c78c-4ccf-8e2e-345d98513380",
   "metadata": {},
   "outputs": [],
   "source": [
    "array_0s_like = np.zeros_like(matrix_A)    \n",
    "array_0s_like\n",
    "\n",
    "# We have corresponding functions for 1s and full as well. "
   ]
  },
  {
   "cell_type": "code",
   "execution_count": null,
   "id": "a36a5d24-554a-4586-887d-abfb34b0f685",
   "metadata": {},
   "outputs": [],
   "source": [
    "#range(30)\n",
    "list(range(30))\n",
    "\n",
    "# range(30) results in a range object.\n",
    "# list(range(30)) creates a list with all the values in this range."
   ]
  },
  {
   "cell_type": "code",
   "execution_count": null,
   "id": "87db3abe-87b0-4977-b058-39ee61c216bd",
   "metadata": {},
   "outputs": [],
   "source": [
    "array_rng = np.arange(30)\n",
    "array_rng\n",
    "\n",
    "## Creates an ndarray with the values in this range."
   ]
  },
  {
   "cell_type": "code",
   "execution_count": null,
   "id": "8f9d4985-881f-4aba-8803-808c6d7b4d2c",
   "metadata": {},
   "outputs": [],
   "source": [
    "# array_rng = np.arange(stop =  30)\n",
    "array_rng = np.arange(start =  30)\n",
    "array_rng\n",
    "\n",
    "# The only mandatory argument is \"start\", rather than stop. \n",
    "# If we specify only a start, the function assumes this is the \"stop\" and starts from the origin (0)."
   ]
  },
  {
   "cell_type": "code",
   "execution_count": null,
   "id": "dbcb20af-9d30-4cfc-a9c2-4d224e65489d",
   "metadata": {},
   "outputs": [],
   "source": [
    "array_rng = np.arange(start = 0, stop =  30)\n",
    "array_rng"
   ]
  },
  {
   "cell_type": "code",
   "execution_count": null,
   "id": "330d081e-8189-4bf8-bd19-d6f64b93939c",
   "metadata": {},
   "outputs": [],
   "source": [
    "array_rng = np.arange(start = 0, stop =  30, step = 2.5)\n",
    "array_rng\n",
    "\n",
    "# \"Step\" doesn't have to be the same type as the values of the array. "
   ]
  },
  {
   "cell_type": "code",
   "execution_count": null,
   "id": "4840b768-dbcd-4491-8d77-9f128d97bfcf",
   "metadata": {},
   "outputs": [],
   "source": [
    "array_rng = np.arange(start = 0, stop =  30, step = 2.5, dtype = np.float32)\n",
    "array_rng = np.arange(start = 0, stop =  30, step = 2.5, dtype = np.int32)\n",
    "array_rng\n",
    "\n",
    "# The casting happens after all the computations. "
   ]
  },
  {
   "cell_type": "code",
   "execution_count": null,
   "id": "e655199a-b738-4043-b601-982d267cfb20",
   "metadata": {},
   "outputs": [],
   "source": [
    "## Random Generators"
   ]
  },
  {
   "cell_type": "code",
   "execution_count": null,
   "id": "1bb29647-ae24-45c5-981a-441a3da3b878",
   "metadata": {},
   "outputs": [],
   "source": [
    "### Defining Random Generators"
   ]
  },
  {
   "cell_type": "code",
   "execution_count": null,
   "id": "e3fdb623-295b-41a2-bcd9-2e48ef057221",
   "metadata": {},
   "outputs": [],
   "source": [
    "from numpy.random import Generator as gen\n",
    "from numpy.random import PCG64 as pcg\n",
    "\n",
    "\n",
    "## We load two functions from the numpy.random module."
   ]
  },
  {
   "cell_type": "code",
   "execution_count": null,
   "id": "37e4b8f5-c859-4e61-9845-e6b22d0d5e12",
   "metadata": {},
   "outputs": [],
   "source": [
    "array_RG = gen(pcg())\n",
    "\n",
    "#array_RG.normal()\n",
    "#array_RG.normal(size = 5)\n",
    "array_RG.normal(size = (5,5))\n",
    "\n",
    "# RG is short for Random Generator."
   ]
  },
  {
   "cell_type": "code",
   "execution_count": null,
   "id": "d731cfc6-9824-43d2-8980-64a1fc3fbd89",
   "metadata": {},
   "outputs": [],
   "source": [
    "array_RG = gen(pcg(seed = 365)) \n",
    "array_RG.normal(size = (5,5))\n",
    "\n",
    "# Re-running this cell provides a consistent output, since the seed (with fixed starting values) is set. "
   ]
  },
  {
   "cell_type": "code",
   "execution_count": null,
   "id": "df7dc8e1-3c37-4ae5-b664-bfa8d03d77f6",
   "metadata": {},
   "outputs": [],
   "source": [
    "array_RG.normal(size = (5,5))\n",
    "\n",
    "# The seed is fixed for a single itteration. "
   ]
  },
  {
   "cell_type": "code",
   "execution_count": null,
   "id": "77ce0b9f-7168-447e-9aa0-e9739f89ee1c",
   "metadata": {},
   "outputs": [],
   "source": [
    "### Generating Integers, Probabilities and Random Choices"
   ]
  },
  {
   "cell_type": "code",
   "execution_count": null,
   "id": "1fb0d671-6416-4f34-85db-ceea2491a9f5",
   "metadata": {},
   "outputs": [],
   "source": [
    "array_RG = gen(pcg(seed = 365)) \n",
    "#array_RG.integers(10, size = (5,5))\n",
    "array_RG.integers(low = 10, high = 100, size = (5,5))\n",
    "\n",
    "# Generates integers within a range."
   ]
  },
  {
   "cell_type": "code",
   "execution_count": null,
   "id": "a9c68c37-f829-477e-b8a5-2035e46e12f7",
   "metadata": {},
   "outputs": [],
   "source": [
    "array_RG = gen(pcg(seed = 365)) \n",
    "array_RG.random(size = (5,5))"
   ]
  },
  {
   "cell_type": "code",
   "execution_count": null,
   "id": "28c51780-885f-4e4c-bcb3-d91646682c8d",
   "metadata": {},
   "outputs": [],
   "source": [
    "#array_RG.choice(matrix_A[0], size = (5,5))\n",
    "array_RG = gen(pcg(seed = 365)) \n",
    "#array_RG.choice([1,2,3,4,5], size = (5,5))\n",
    "array_RG.choice((1,2,3,4,5), p = [0.1,0.1,0.1,0.1,0.6],size = (5,5))\n",
    "\n",
    "# Chooses among a given set (with possible weighted probabilities)."
   ]
  },
  {
   "cell_type": "code",
   "execution_count": null,
   "id": "f376acd9-d304-4691-b277-f7c19fea0943",
   "metadata": {},
   "outputs": [],
   "source": [
    "### Generating Arrays From Known Distributions"
   ]
  },
  {
   "cell_type": "code",
   "execution_count": null,
   "id": "8b03a587-c4a8-49fc-a78d-eac96c94d93a",
   "metadata": {},
   "outputs": [],
   "source": [
    "array_RG = gen(pcg(seed = 365)) \n",
    "array_RG.poisson(size = (5,5))\n",
    "\n",
    "# The default Poisson distribution."
   ]
  },
  {
   "cell_type": "code",
   "execution_count": null,
   "id": "51188744-4ef8-401a-8951-1050a6bb43c6",
   "metadata": {},
   "outputs": [],
   "source": [
    "array_RG = gen(pcg(seed = 365)) \n",
    "array_RG.poisson(lam = 10,size = (5,5))\n",
    "\n",
    "# Specifying lambda. "
   ]
  },
  {
   "cell_type": "code",
   "execution_count": null,
   "id": "426d7269-b20d-4d0a-8ead-0fcb34a631f7",
   "metadata": {},
   "outputs": [],
   "source": [
    "array_RG = gen(pcg(seed = 365)) \n",
    "array_RG.binomial(n = 100, p = 0.4, size = (5,5))\n",
    "\n",
    "# A binomial distribution with p = 0.4 and 100 trials. "
   ]
  },
  {
   "cell_type": "code",
   "execution_count": null,
   "id": "766932ae-165d-4934-9ae0-1971604b0997",
   "metadata": {},
   "outputs": [],
   "source": [
    "array_RG = gen(pcg(seed = 365)) \n",
    "array_RG.logistic(loc = 9, scale = 1.2, size = (5,5))\n",
    "\n",
    "# A logistic distribution with a location = 9 and scale = 1.2."
   ]
  },
  {
   "cell_type": "code",
   "execution_count": null,
   "id": "ff05cd28-d872-4c88-ba11-d6733fe70569",
   "metadata": {},
   "outputs": [],
   "source": [
    "### Applications of Random Generators"
   ]
  },
  {
   "cell_type": "code",
   "execution_count": null,
   "id": "958db6d6-7135-4737-9b4d-6dd658eb3340",
   "metadata": {},
   "outputs": [],
   "source": [
    "#### Creating Tests"
   ]
  },
  {
   "cell_type": "code",
   "execution_count": null,
   "id": "1bdc77af-68ac-4c02-aa67-48c4bfc3e9cc",
   "metadata": {},
   "outputs": [],
   "source": [
    "array_RG = gen(pcg(seed = 365)) \n",
    "\n",
    "array_column_1 = array_RG.normal(loc = 2, scale = 3, size = (1000))\n",
    "array_column_2 = array_RG.normal(loc = 7, scale = 2, size = (1000))\n",
    "array_column_3 = array_RG.logistic(loc = 11, scale = 3, size = (1000))\n",
    "array_column_4  = array_RG.exponential(scale = 4, size = (1000))\n",
    "array_column_5  = array_RG.geometric(p = 0.7, size = (1000))\n",
    "\n",
    "# Create the individual columns of the dataset we're creating. "
   ]
  },
  {
   "cell_type": "code",
   "execution_count": null,
   "id": "83747a23-6a8a-4c74-b533-2b2ae14ffa8b",
   "metadata": {},
   "outputs": [],
   "source": [
    "#random_test_data = np.array([array_column_1, array_column_2, array_column_3, array_column_4, array_column_5]).transpose()\n",
    "random_test_data = np.array([array_column_1, array_column_2, array_column_3, array_column_4, array_column_5]).transpose()\n",
    "random_test_data\n",
    "\n",
    "# Use np.array to generate a new array with the 5 arrays we created earlier. \n",
    "# Use the transpose method to make sure our dataset isn't flipped. "
   ]
  },
  {
   "cell_type": "code",
   "execution_count": null,
   "id": "4e58c551-2f6c-45c3-8537-de5dcd34dc2d",
   "metadata": {},
   "outputs": [],
   "source": [
    "random_test_data.shape"
   ]
  },
  {
   "cell_type": "code",
   "execution_count": null,
   "id": "fd38060d-18d5-42d4-8401-051c76e3bdbc",
   "metadata": {},
   "outputs": [],
   "source": [
    "np.savetxt(\"Random-Test-from-NumPy.csv\", random_test_data, fmt = '%s', delimiter = ',')\n",
    "\n",
    "\n",
    "# Saving the arrays to an extrenal file we're creating. \n",
    "\n",
    "# file name -> \"Random-Test-from-NumPy.csv\"\n",
    "# random_test_data -> data we're exporting (saving to an external file)\n",
    "# format -> strings\n",
    "# delimiter \",\"\n",
    "\n",
    "# We'll talk more about these in just a bit. "
   ]
  },
  {
   "cell_type": "code",
   "execution_count": null,
   "id": "1c2ca423-818b-4ee4-91d2-37f6706edf61",
   "metadata": {},
   "outputs": [],
   "source": [
    "np.genfromtxt(\"Random-Test-from-NumPy.csv\", delimiter = ',')\n",
    "\n",
    "# Importing the data from the file we just created. "
   ]
  },
  {
   "cell_type": "code",
   "execution_count": null,
   "id": "d8322f3b-dd96-4f12-80ff-7968f9d20e5c",
   "metadata": {},
   "outputs": [],
   "source": [
    "rand_test_data = np.genfromtxt(\"Random-Test-from-NumPy.csv\", delimiter = ',')\n",
    "print(rand_test_data)"
   ]
  },
  {
   "cell_type": "code",
   "execution_count": null,
   "id": "0c1ca80c-a806-4906-9f65-51100f3bac76",
   "metadata": {},
   "outputs": [],
   "source": []
  },
  {
   "cell_type": "code",
   "execution_count": null,
   "id": "60d9c9ef-2c92-4886-8303-ff5836d570b4",
   "metadata": {},
   "outputs": [],
   "source": []
  },
  {
   "cell_type": "code",
   "execution_count": null,
   "id": "c6fcfa1d-e800-4e27-9359-d25cfcf3d613",
   "metadata": {},
   "outputs": [],
   "source": []
  },
  {
   "cell_type": "code",
   "execution_count": null,
   "id": "1ce69844-1c7f-4dd0-b058-953cdb8059d8",
   "metadata": {},
   "outputs": [],
   "source": [
    "## Importing Data with NumPy"
   ]
  },
  {
   "cell_type": "code",
   "execution_count": null,
   "id": "2e1581ea-5e64-4f7d-bc3a-906473532767",
   "metadata": {},
   "outputs": [],
   "source": [
    "### np.loadtxt() vs np.genfromtxt()"
   ]
  },
  {
   "cell_type": "code",
   "execution_count": null,
   "id": "c2d9a06b-de5a-4fbd-b1d6-4eaf193412b0",
   "metadata": {},
   "outputs": [],
   "source": [
    "lending_co_data_numeric_1 = np.loadtxt(\"Lending-Company-Numeric-Data.csv\", delimiter = ',')\n",
    "lending_co_data_numeric_1\n",
    "\n",
    "# We can use Notepad++ to determine delimiters"
   ]
  },
  {
   "cell_type": "code",
   "execution_count": null,
   "id": "e4467fe5-f221-430e-9979-430a7c6ef74e",
   "metadata": {},
   "outputs": [],
   "source": [
    "lending_co_data_numeric_2 = np.genfromtxt(\"Lending-Company-Numeric-Data.csv\", delimiter = ',')\n",
    "lending_co_data_numeric_2"
   ]
  },
  {
   "cell_type": "code",
   "execution_count": null,
   "id": "9336fad6-87a6-4a3d-85f3-fef59edc9166",
   "metadata": {},
   "outputs": [],
   "source": [
    "np.array_equal(lending_co_data_numeric_1, lending_co_data_numeric_2)\n",
    "\n",
    "## np.array_equal() compares two (or more) arrays and tells us if whether they're identical"
   ]
  },
  {
   "cell_type": "code",
   "execution_count": null,
   "id": "1e58c960-c9f9-4f63-acbf-5bf8ec6cf593",
   "metadata": {},
   "outputs": [],
   "source": [
    "lending_co_data_numeric_NAN = np.genfromtxt(\"Lending-Company-Numeric-Data-NAN.csv\", delimiter = ';')\n",
    "lending_co_data_numeric_NAN\n",
    "\n",
    "# np.loadtxt() fails to import incomplete datasets by default"
   ]
  },
  {
   "cell_type": "code",
   "execution_count": null,
   "id": "f2b2d210-8284-43a4-9391-3bf64ddb31d0",
   "metadata": {},
   "outputs": [],
   "source": [
    "lending_co_data_numeric_NAN = np.loadtxt(\"Lending-Company-Numeric-Data-NAN.csv\", \n",
    "                                         delimiter = ';',\n",
    "                                         dtype = np.str)\n",
    "lending_co_data_numeric_NAN\n",
    "\n",
    "# If we import all the values as text, then we don't get a type inconcsistency, so we can use np.loadtxt()"
   ]
  },
  {
   "cell_type": "code",
   "execution_count": null,
   "id": "e0bd41db-55a4-4d61-88a6-46f81ab84537",
   "metadata": {},
   "outputs": [],
   "source": [
    "lending_co_data_numeric_NAN[0,0] + lending_co_data_numeric_NAN[0,1]\n",
    "\n",
    "# Adding '2000' and '40' results in a concatenated '200040' rather than 2040."
   ]
  },
  {
   "cell_type": "code",
   "execution_count": null,
   "id": "7099beab-308b-462d-9c51-4c95c22d9152",
   "metadata": {},
   "outputs": [],
   "source": [
    "### Partial Cleaning While Importing"
   ]
  },
  {
   "cell_type": "code",
   "execution_count": null,
   "id": "ab63ec23-8414-47e2-a3dd-23caa05b8bb7",
   "metadata": {},
   "outputs": [],
   "source": [
    "lending_co_data_numeric_NAN = np.genfromtxt(\"Lending-Company-Numeric-Data-NAN.csv\", delimiter = ';') \n",
    "lending_co_data_numeric_NAN"
   ]
  },
  {
   "cell_type": "code",
   "execution_count": null,
   "id": "086144a6-dc73-4cbf-ad7f-4c34b759a5ef",
   "metadata": {},
   "outputs": [],
   "source": [
    "lending_co_data_numeric_NAN = np.genfromtxt(\"Lending-Company-Numeric-Data-NAN.csv\", \n",
    "                                            delimiter = ';',\n",
    "                                            skip_header = 2) \n",
    "lending_co_data_numeric_NAN\n",
    "\n",
    "# skip_header omits lines from the top of the text file"
   ]
  },
  {
   "cell_type": "code",
   "execution_count": null,
   "id": "13280938-a4ac-4b8a-9670-125ba6fd854a",
   "metadata": {},
   "outputs": [],
   "source": [
    "lending_co_data_numeric_NAN = np.genfromtxt(\"Lending-Company-Numeric-Data-NAN.csv\", \n",
    "                                            delimiter = ';',\n",
    "                                            skip_footer = 2) \n",
    "lending_co_data_numeric_NAN\n",
    "\n",
    "# skip_footer omits lines from the bottom of the text file"
   ]
  },
  {
   "cell_type": "code",
   "execution_count": null,
   "id": "ea30aeef-e8b8-48b7-991f-30949bea2d8f",
   "metadata": {},
   "outputs": [],
   "source": [
    "lending_co_data_numeric_NAN = np.genfromtxt(\"Lending-Company-Numeric-Data-NAN.csv\", \n",
    "                                            delimiter = ';',\n",
    "                                            usecols = (5,0,1)) \n",
    "lending_co_data_numeric_NAN\n",
    "\n",
    "# use_cols tells the function to only take the following columns based on their indices."
   ]
  },
  {
   "cell_type": "code",
   "execution_count": null,
   "id": "9e13ddf7-be31-4795-b409-823a1704a21d",
   "metadata": {},
   "outputs": [],
   "source": [
    "lending_co_data_numeric_NAN = np.genfromtxt(\"Lending-Company-Numeric-Data-NAN.csv\", \n",
    "                                            delimiter = ';',\n",
    "                                            usecols = (5,0,1), \n",
    "                                            skip_header = 2, \n",
    "                                            skip_footer = 2) \n",
    "lending_co_data_numeric_NAN\n",
    "\n",
    "# We can define all these arguments (and many more) together to only import what we want. "
   ]
  },
  {
   "cell_type": "code",
   "execution_count": null,
   "id": "280a6e1a-0630-4cbb-bafb-5b53775350bc",
   "metadata": {},
   "outputs": [],
   "source": [
    "lending_co_data_5, lending_co_data_0, lending_co_data_1 = np.genfromtxt(\"Lending-Company-Numeric-Data-NAN.csv\", \n",
    "                                                                        delimiter = ';',\n",
    "                                                                        usecols = (5,0,1), \n",
    "                                                                        skip_header = 2, \n",
    "                                                                        skip_footer = 2, \n",
    "                                                                        unpack = True)\n",
    "print(lending_co_data_5)\n",
    "print(lending_co_data_0)\n",
    "print(lending_co_data_1)\n",
    "\n",
    "# Unpacking allows us to split the output array into smaller 1-D arrays."
   ]
  },
  {
   "cell_type": "code",
   "execution_count": null,
   "id": "4cad0bd4-24d2-4527-bb03-0690996857eb",
   "metadata": {},
   "outputs": [],
   "source": [
    "### String vs Object vs Numbers"
   ]
  },
  {
   "cell_type": "code",
   "execution_count": null,
   "id": "6e2a69db-fec0-4b51-9e9f-29bf66a31079",
   "metadata": {},
   "outputs": [],
   "source": [
    "lending_co_lt = np.genfromtxt(\"lending-co-LT.csv\", \n",
    "                              delimiter = ',',\n",
    "                              dtype = np.int32\n",
    "                              #dtype = np.float16\n",
    "                              #dtype = np.str\n",
    "                              #dtype = np.object\n",
    "                              #dtype = (np.int32, np.str, np.str, np.str, np.str, np.str, np.int32)\n",
    "                             )\n",
    "print(lending_co_lt)\n",
    "\n",
    "# The same dataset is imported differently based on the datatype we define. "
   ]
  },
  {
   "cell_type": "code",
   "execution_count": null,
   "id": "b7fa90f9-2df4-4138-b7ce-9d5c65524929",
   "metadata": {},
   "outputs": [],
   "source": [
    "lending_co_lt[0,0] + lending_co_lt[0,1]"
   ]
  },
  {
   "cell_type": "code",
   "execution_count": null,
   "id": "386e34ce-5d63-441a-93ce-d7cb156c8390",
   "metadata": {},
   "outputs": [],
   "source": []
  },
  {
   "cell_type": "code",
   "execution_count": null,
   "id": "d60df352-93bb-4af2-95bc-e6f253111a7b",
   "metadata": {},
   "outputs": [],
   "source": []
  },
  {
   "cell_type": "code",
   "execution_count": null,
   "id": "96b5cba0-823c-44d4-b185-4c35c87711e6",
   "metadata": {},
   "outputs": [],
   "source": [
    "## Saving Files with NumPy"
   ]
  },
  {
   "cell_type": "code",
   "execution_count": null,
   "id": "611b155f-0661-477e-bbf0-38ad3c8d4138",
   "metadata": {},
   "outputs": [],
   "source": [
    "### np.save()"
   ]
  },
  {
   "cell_type": "code",
   "execution_count": null,
   "id": "68d74e57-79fa-4326-9e66-e8b5a70e2620",
   "metadata": {},
   "outputs": [],
   "source": [
    "lending_co = np.genfromtxt(\"Lending-Company-Saving.csv\", \n",
    "                           delimiter = ',', \n",
    "                           dtype = np.str)\n",
    "\n",
    "print(lending_co)\n",
    "\n",
    "## We're just importing a dataset, so we can save it later. \n",
    "## Usually, we will be working with an array already, so we could skip this. "
   ]
  },
  {
   "cell_type": "code",
   "execution_count": null,
   "id": "343c8f70-dbc5-4de7-9f4b-b9d3365b10c0",
   "metadata": {},
   "outputs": [],
   "source": [
    "np.save(\"Lending-Company-Saving\", lending_co)\n",
    "\n",
    "## Create an .npy file with the data from the lending_co array. "
   ]
  },
  {
   "cell_type": "code",
   "execution_count": null,
   "id": "4342111c-1887-4143-b0d7-5213d0f51955",
   "metadata": {},
   "outputs": [],
   "source": [
    "lending_data_save = np.load(\"Lending-Company-Saving.npy\")\n",
    "\n",
    "## Load the NPY file we just created. (Load =/= Import in this case)"
   ]
  },
  {
   "cell_type": "code",
   "execution_count": null,
   "id": "e65b9be1-b9d3-4d99-81b7-0bb0deb05de7",
   "metadata": {},
   "outputs": [],
   "source": [
    "print(lending_data_save)"
   ]
  },
  {
   "cell_type": "code",
   "execution_count": null,
   "id": "cab30f6e-e79a-4d80-82ea-a3eff8da2161",
   "metadata": {},
   "outputs": [],
   "source": [
    "np.array_equal(lending_data_save, lending_co)\n",
    "\n",
    "# The original array is identical to the one we saved and then loaded back into Python. "
   ]
  },
  {
   "cell_type": "code",
   "execution_count": null,
   "id": "3f1aa878-d16e-4b37-94ba-388e4060c12d",
   "metadata": {},
   "outputs": [],
   "source": [
    "### np.savez()"
   ]
  },
  {
   "cell_type": "code",
   "execution_count": null,
   "id": "06030816-0dde-4d5b-b2f5-c46585a7c84e",
   "metadata": {},
   "outputs": [],
   "source": [
    "lending_co = np.genfromtxt(\"Lending-Company-Saving.csv\", \n",
    "                           delimiter = ',',\n",
    "                           dtype = np.str) \n",
    "\n",
    "lending_data_save = np.load('Lending-Company-Saving.npy') \n",
    "\n",
    "# Just getting two arrays we want to store (we import one, and load the other)"
   ]
  },
  {
   "cell_type": "code",
   "execution_count": null,
   "id": "0e77b87d-1dd8-4af5-abc0-bce354284921",
   "metadata": {},
   "outputs": [],
   "source": [
    "np.savez(\"Lending-Company-Saving\", lending_co, lending_data_save)\n",
    "\n",
    "# Creates the .npz file, which is an archive of .npy files. "
   ]
  },
  {
   "cell_type": "code",
   "execution_count": null,
   "id": "91a23ecc-37b2-4d95-be1d-6227e9bea3ed",
   "metadata": {},
   "outputs": [],
   "source": [
    "lending_data_savez = np.load('Lending-Company-Saving.npz')\n",
    "\n",
    "# We also load .npz files."
   ]
  },
  {
   "cell_type": "code",
   "execution_count": null,
   "id": "c219d1da-a0c2-4977-96b2-30a5ad296a07",
   "metadata": {},
   "outputs": [],
   "source": [
    "print(lending_data_savez[\"arr_1\"])\n",
    "\n",
    "# np.savez() assigns default names to each .npy inside the archive."
   ]
  },
  {
   "cell_type": "code",
   "execution_count": null,
   "id": "4bee3767-e668-45d9-abcb-b7e08c174c9b",
   "metadata": {},
   "outputs": [],
   "source": [
    "np.savez(\"Lending-Company-Saving\", company = lending_co, data_save = lending_data_save) \n",
    "\n",
    "# Assign custom recognizable names to the individual .npy files in the .npz"
   ]
  },
  {
   "cell_type": "code",
   "execution_count": null,
   "id": "8f5cfdf7-6dbb-4980-a527-0a8f542bb49f",
   "metadata": {},
   "outputs": [],
   "source": [
    "lending_data_savez = np.load(\"Lending-Company-Saving.npz\")"
   ]
  },
  {
   "cell_type": "code",
   "execution_count": null,
   "id": "b3f6a2e1-25fe-4634-87f9-57e54be4e3ef",
   "metadata": {},
   "outputs": [],
   "source": [
    "lending_data_savez.files\n",
    "\n",
    "# Shows the names of all the .npy files stored in the .npz"
   ]
  },
  {
   "cell_type": "code",
   "execution_count": null,
   "id": "b4d9acbd-8519-4d9c-9abe-a87249115bf3",
   "metadata": {},
   "outputs": [],
   "source": [
    "print(lending_data_savez[\"data_save\"])"
   ]
  },
  {
   "cell_type": "code",
   "execution_count": null,
   "id": "8521bb4c-7889-4cb1-b6b5-8d970a71ff24",
   "metadata": {},
   "outputs": [],
   "source": [
    "np.array_equal(lending_data_savez[\"company\"],lending_data_savez[\"data_save\"])\n",
    "\n",
    "# Even after saving and loading the datasets back into Python, they are still identical."
   ]
  },
  {
   "cell_type": "code",
   "execution_count": null,
   "id": "f78cf42a-3aba-4ef2-97c0-eafcf173c18f",
   "metadata": {},
   "outputs": [],
   "source": [
    "lending_co = np.genfromtxt(\"Lending-Company-Saving.csv\",\n",
    "                           delimiter = ',',\n",
    "                           dtype = np.str) "
   ]
  },
  {
   "cell_type": "code",
   "execution_count": null,
   "id": "ca6f0b4d-2162-427b-98d5-1059152064a2",
   "metadata": {},
   "outputs": [],
   "source": [
    "np.savetxt(\"Lending-Company-Saving.txt\", \n",
    "           lending_co, \n",
    "           fmt = '%s', \n",
    "           delimiter = ',')\n",
    "\n",
    "# We must specify the file extension (txt or csv).\n",
    "# We must specify the format (strings in this case).\n",
    "# We must set a delimiter (comma in this case)."
   ]
  },
  {
   "cell_type": "code",
   "execution_count": null,
   "id": "e600e2f9-7c3e-403a-9dea-759a8902de44",
   "metadata": {},
   "outputs": [],
   "source": [
    "lending_data_savetxt = np.genfromtxt(\"Lending-Company-Saving.txt\", \n",
    "                                     delimiter = ',', \n",
    "                                     dtype = np.str)\n",
    "\n",
    "print(lending_data_savetxt)\n",
    "\n",
    "# We're importing the .txt file we just created."
   ]
  },
  {
   "cell_type": "code",
   "execution_count": null,
   "id": "82ecc281-f7e7-4e7e-a2d9-f38e787232ec",
   "metadata": {},
   "outputs": [],
   "source": [
    "lending_data_save = np.load(\"Lending-Company-Saving.npy\")"
   ]
  },
  {
   "cell_type": "code",
   "execution_count": null,
   "id": "87e68093-5766-42dd-81d4-9d9604c8032d",
   "metadata": {},
   "outputs": [],
   "source": [
    "np.array_equal(lending_data_savetxt, lending_data_save)"
   ]
  },
  {
   "cell_type": "code",
   "execution_count": null,
   "id": "0b42eb80-d0af-4145-849a-3e46a55548fd",
   "metadata": {},
   "outputs": [],
   "source": []
  },
  {
   "cell_type": "code",
   "execution_count": null,
   "id": "31158fd6-e04f-461d-92f1-866a6d10ea12",
   "metadata": {},
   "outputs": [],
   "source": []
  },
  {
   "cell_type": "code",
   "execution_count": null,
   "id": "61002c24-1ad5-4c44-ae62-9a8f27eaa0f9",
   "metadata": {},
   "outputs": [],
   "source": [
    "# Statistsics w/ NumPy"
   ]
  },
  {
   "cell_type": "code",
   "execution_count": null,
   "id": "d798e8eb-e0af-49b2-aa22-88623d620079",
   "metadata": {},
   "outputs": [],
   "source": [
    "### np.mean()"
   ]
  },
  {
   "cell_type": "code",
   "execution_count": null,
   "id": "c109e133-fc02-46f6-9b14-55dffbc71c70",
   "metadata": {},
   "outputs": [],
   "source": [
    "matrix_A = np.array([[1,0,0,3,1],[3,6,6,2,9],[4,5,3,8,0]])\n",
    "matrix_A"
   ]
  },
  {
   "cell_type": "code",
   "execution_count": null,
   "id": "93223bda-ca66-409f-ac67-6b65bf4ad117",
   "metadata": {},
   "outputs": [],
   "source": [
    "np.mean(matrix_A, axis = 1)\n",
    "\n",
    "# We can call the function over a given axis (e.g for every row or column when it comes to 2-D arrays)"
   ]
  },
  {
   "cell_type": "code",
   "execution_count": null,
   "id": "0b47d37b-0e01-4e69-997d-ed0bbc04cfe5",
   "metadata": {},
   "outputs": [],
   "source": [
    "matrix_A.mean()\n",
    "\n",
    "# An equivalent method exists."
   ]
  },
  {
   "cell_type": "code",
   "execution_count": null,
   "id": "3648d2aa-34e3-4efc-ad02-fe31e45d9b62",
   "metadata": {},
   "outputs": [],
   "source": [
    "# matrix_A.sqrt() \n",
    "\n",
    "# Results in an attribute error, since not every function has an equivalent method. "
   ]
  },
  {
   "cell_type": "code",
   "execution_count": null,
   "id": "8b6d0703-e864-4570-b435-36afe70e3470",
   "metadata": {},
   "outputs": [],
   "source": [
    "np.mean(matrix_A, axis = 1, dtype = np.int64)\n",
    "\n",
    "## We can cast the values to a specific type as well. "
   ]
  },
  {
   "cell_type": "code",
   "execution_count": null,
   "id": "d99f2760-b55d-4a45-975b-89f7de53563b",
   "metadata": {},
   "outputs": [],
   "source": [
    "### Min & Max Values"
   ]
  },
  {
   "cell_type": "code",
   "execution_count": null,
   "id": "fae886d1-de89-4bf8-8d45-73e903bb19b2",
   "metadata": {},
   "outputs": [],
   "source": [
    "matrix_A = np.array([[1,0,0,3,1],[3,6,6,2,9],[4,5,3,8,0]])\n",
    "matrix_A"
   ]
  },
  {
   "cell_type": "code",
   "execution_count": null,
   "id": "9abf0f85-1707-4f53-8196-39f9e8f5bf75",
   "metadata": {},
   "outputs": [],
   "source": [
    "np.min(matrix_A)\n",
    "\n",
    "# Returns the minimum value. "
   ]
  },
  {
   "cell_type": "code",
   "execution_count": null,
   "id": "2b275fa8-6cbb-408b-a981-4f1a25032572",
   "metadata": {},
   "outputs": [],
   "source": [
    "np.amin(matrix_A)\n",
    "\n",
    "# Equivalent function (literally just a different alias for np.min())"
   ]
  },
  {
   "cell_type": "code",
   "execution_count": null,
   "id": "90620309-a38b-4a1f-b511-490ec3cbe797",
   "metadata": {},
   "outputs": [],
   "source": [
    "np.minimum(matrix_A[1], matrix_A[2])\n",
    "\n",
    "# Elementwise minimum. Returns the lowest value out of a given set.\n",
    "# In this case, np.minimum() returns the lower value every position across the two arrays. (e.g. lowest value in 1st position, 2nd, etc)"
   ]
  },
  {
   "cell_type": "code",
   "execution_count": null,
   "id": "9d242e84-b55f-498e-a29f-bd70ea80370e",
   "metadata": {},
   "outputs": [],
   "source": [
    "np.minimum.reduce(matrix_A)\n",
    "\n",
    "## A way to make minimum() equivalent to min()"
   ]
  },
  {
   "cell_type": "code",
   "execution_count": null,
   "id": "e72d8f22-65e5-4e65-9bfa-5bebaae644a6",
   "metadata": {},
   "outputs": [],
   "source": [
    "np.min(matrix_A, axis = 0)"
   ]
  },
  {
   "cell_type": "code",
   "execution_count": null,
   "id": "82876d2a-71bd-452a-aeb0-140334dd1eb5",
   "metadata": {},
   "outputs": [],
   "source": [
    "np.max(matrix_A)\n",
    "\n",
    "## Corresponding max, a max and maximum functions exist. "
   ]
  },
  {
   "cell_type": "code",
   "execution_count": null,
   "id": "0c0a126d-90fc-4a25-a5ee-17c5e74e8b6a",
   "metadata": {},
   "outputs": [],
   "source": [
    "np.amax(matrix_A)"
   ]
  },
  {
   "cell_type": "code",
   "execution_count": null,
   "id": "757f1006-163b-45f5-a9db-ccf3859d3155",
   "metadata": {},
   "outputs": [],
   "source": [
    "np.maximum.reduce(matrix_A)"
   ]
  },
  {
   "cell_type": "code",
   "execution_count": null,
   "id": "efb167fe-d9de-49ee-aa68-b3343362f10a",
   "metadata": {},
   "outputs": [],
   "source": [
    "### Statistical Order Functions "
   ]
  },
  {
   "cell_type": "code",
   "execution_count": null,
   "id": "549151e3-3dab-47d8-b08f-8f9a1c6d75fc",
   "metadata": {},
   "outputs": [],
   "source": [
    "matrix_A = np.array([[1,0,0,3,1],[3,6,6,2,9],[4,5,3,8,0]])\n",
    "matrix_A"
   ]
  },
  {
   "cell_type": "code",
   "execution_count": null,
   "id": "3844f219-f0ed-4f27-9037-3abfc240d482",
   "metadata": {},
   "outputs": [],
   "source": [
    "np.ptp(matrix_A)\n",
    "\n",
    "## Returns difference between max and min (peak-to-peak) over the flattened array. "
   ]
  },
  {
   "cell_type": "code",
   "execution_count": null,
   "id": "b97c6b8f-8080-464f-a779-c43d52a29773",
   "metadata": {},
   "outputs": [],
   "source": [
    "np.ptp(matrix_A, axis = 0)\n",
    "\n",
    "## Returns difference between max and min (peak-to-peak) for every column. "
   ]
  },
  {
   "cell_type": "code",
   "execution_count": null,
   "id": "999742d9-2bc6-4f2f-977d-384f8a2fe386",
   "metadata": {},
   "outputs": [],
   "source": [
    "np.ptp(matrix_A, axis = 1)\n",
    "\n",
    "## Returns difference between max and min (peak-to-peak) for every row. "
   ]
  },
  {
   "cell_type": "code",
   "execution_count": null,
   "id": "7a06e225-3bb5-43c9-90da-4574cedc75f4",
   "metadata": {},
   "outputs": [],
   "source": [
    "np.sort(matrix_A, axis = None)\n",
    "\n",
    "# A sorted version of the flattened matrix_A"
   ]
  },
  {
   "cell_type": "code",
   "execution_count": null,
   "id": "91eaf41f-c594-4cb6-8d55-3d91506209ce",
   "metadata": {},
   "outputs": [],
   "source": [
    "type(np.percentile(matrix_A, 70))\n",
    "# N-th Percentile = A value which is greater than n% of the dataset. "
   ]
  },
  {
   "cell_type": "code",
   "execution_count": null,
   "id": "a406309f-25ea-4f4d-a93a-946e2008f74d",
   "metadata": {},
   "outputs": [],
   "source": [
    "np.percentile(matrix_A, 100)\n",
    "\n",
    "# 100-th percentile = max\n",
    "# 50-th percentile = median\n",
    "# 0-th percentile = min"
   ]
  },
  {
   "cell_type": "code",
   "execution_count": null,
   "id": "30a3a3d9-1d98-4bd3-a8e1-a4f4563108c1",
   "metadata": {},
   "outputs": [],
   "source": [
    "np.quantile(matrix_A, 0.70, interpolation = \"nearest\")\n",
    "\n",
    "# Quantile -> Similar to percentile, but works with parts of the dataset, rather than percentages. \n",
    "# Hence, the N-th Quantile = 100*N-th Percentile of the same dataset. "
   ]
  },
  {
   "cell_type": "code",
   "execution_count": null,
   "id": "a10082c0-eda6-4769-92d5-a6310d3dc121",
   "metadata": {},
   "outputs": [],
   "source": [
    "### Averages and Variances"
   ]
  },
  {
   "cell_type": "code",
   "execution_count": null,
   "id": "7e90c249-6554-4af1-a282-194c326bfb4a",
   "metadata": {},
   "outputs": [],
   "source": [
    "matrix_A = np.array([[1,0,0,3,1],[3,6,6,2,9],[4,5,3,8,0]])\n",
    "matrix_A"
   ]
  },
  {
   "cell_type": "code",
   "execution_count": null,
   "id": "d7456273-c4eb-418d-8cbb-cc540ab7edd0",
   "metadata": {},
   "outputs": [],
   "source": [
    "np.median(matrix_A)\n",
    "\n",
    "# Returns the median for the flattened array. \n",
    "# Median -> The middle value of a sorted version of the dataset. "
   ]
  },
  {
   "cell_type": "code",
   "execution_count": null,
   "id": "1e3c95b8-16ea-4528-8819-866abfa94ad8",
   "metadata": {},
   "outputs": [],
   "source": [
    "np.sort(matrix_A, axis = None)"
   ]
  },
  {
   "cell_type": "code",
   "execution_count": null,
   "id": "e29664f6-1579-4e8e-9346-4212ccae9415",
   "metadata": {},
   "outputs": [],
   "source": [
    "np.mean(matrix_A)\n",
    "\n",
    "# The arithmetic average of the flattened array. "
   ]
  },
  {
   "cell_type": "code",
   "execution_count": null,
   "id": "7ccc6a1d-6a3a-4744-8ef2-afda227939a5",
   "metadata": {},
   "outputs": [],
   "source": [
    "np.average(matrix_A)\n",
    "\n",
    "# The average of the flattened array. "
   ]
  },
  {
   "cell_type": "code",
   "execution_count": null,
   "id": "4704fb77-2e21-4da9-a47b-932dd86bd4ef",
   "metadata": {},
   "outputs": [],
   "source": [
    "from numpy.random import Generator as gen\n",
    "from numpy.random import PCG64 as pcg\n",
    "\n",
    "array_RG = gen(pcg(365))\n",
    "\n",
    "array_weights = array_RG.random(size = (3,5))\n",
    "array_weights\n",
    "\n",
    "# Generating some random weights for each entry of matrix_A (for the sake of the example)"
   ]
  },
  {
   "cell_type": "code",
   "execution_count": null,
   "id": "e5af5a83-84bd-46a2-ae26-169efdc6029d",
   "metadata": {},
   "outputs": [],
   "source": [
    "np.average(matrix_A, weights = array_weights)\n",
    "\n",
    "# The weighted average of the flattened array. "
   ]
  },
  {
   "cell_type": "code",
   "execution_count": null,
   "id": "1a9212bb-da63-4067-8509-32a7efde2069",
   "metadata": {},
   "outputs": [],
   "source": [
    "np.var(matrix_A)\n",
    "\n",
    "# The variance of the array. "
   ]
  },
  {
   "cell_type": "code",
   "execution_count": null,
   "id": "c86d9cfc-2e24-4aab-9992-44d8cb653494",
   "metadata": {},
   "outputs": [],
   "source": [
    "np.std(matrix_A)\n",
    "\n",
    "# The standard deviation of the array. "
   ]
  },
  {
   "cell_type": "code",
   "execution_count": null,
   "id": "6ef3c1c6-eeae-4a6e-be85-5cb9780b32f2",
   "metadata": {},
   "outputs": [],
   "source": [
    "2.8**2"
   ]
  },
  {
   "cell_type": "code",
   "execution_count": null,
   "id": "a606cd4d-9e0d-4d4a-9095-1be5d38c8402",
   "metadata": {},
   "outputs": [],
   "source": [
    "### Correlation"
   ]
  },
  {
   "cell_type": "code",
   "execution_count": null,
   "id": "dce813ab-79ae-4ad8-a523-86083648616c",
   "metadata": {},
   "outputs": [],
   "source": [
    "matrix_A = np.array([[1,0,0,3,1],[3,6,6,2,9],[4,5,3,8,0]])\n",
    "matrix_A"
   ]
  },
  {
   "cell_type": "code",
   "execution_count": null,
   "id": "c116bfc8-c85c-44e1-83e6-292cb6b5b832",
   "metadata": {},
   "outputs": [],
   "source": [
    "np.cov(matrix_A)\n",
    "\n",
    "# The covariance of every row (array) of matrix_A and every other row of the variable. "
   ]
  },
  {
   "cell_type": "code",
   "execution_count": null,
   "id": "81bce307-8399-4ae4-8d10-4282d0526165",
   "metadata": {},
   "outputs": [],
   "source": [
    "np.corrcoef(matrix_A)\n",
    "\n",
    "# The correlation coefficient of every row (array) of matrix_A and every other row of the variable. "
   ]
  },
  {
   "cell_type": "code",
   "execution_count": null,
   "id": "ee18acf6-c66c-4aed-8fad-3a1ffe787c87",
   "metadata": {},
   "outputs": [],
   "source": [
    "### Histograms"
   ]
  },
  {
   "cell_type": "code",
   "execution_count": null,
   "id": "4a76f743-c9dd-4091-a7f9-c5e0e93d547a",
   "metadata": {},
   "outputs": [],
   "source": [
    "matrix_A = np.array([[1,0,0,3,1],[3,6,6,2,9],[4,5,3,8,0]])\n",
    "matrix_A"
   ]
  },
  {
   "cell_type": "code",
   "execution_count": null,
   "id": "bf0bca27-f32d-4d3d-b7da-3e4e69ebe48f",
   "metadata": {},
   "outputs": [],
   "source": [
    "np.sort(matrix_A, axis = None)"
   ]
  },
  {
   "cell_type": "code",
   "execution_count": null,
   "id": "d4ecc554-8495-4466-b1c5-35c61f862eb2",
   "metadata": {},
   "outputs": [],
   "source": [
    "np.histogram(matrix_A, bins = 4, range = (1,7))\n",
    "\n",
    "# Computes the bin edges and how many points fall in each bin. \n",
    "# The 1-st array contains the number of points. The 2-nd array contains the bin edges. "
   ]
  },
  {
   "cell_type": "code",
   "execution_count": null,
   "id": "a81e9565-ee2b-4e4e-b85d-d1229857881e",
   "metadata": {},
   "outputs": [],
   "source": [
    "import matplotlib.pyplot as plt\n",
    "plt.hist(matrix_A.flat, bins = np.histogram(matrix_A)[1])\n",
    "plt.show()\n",
    "\n",
    "# NumPy has no plotting capabilities, so we're using matplotlib's help. \n",
    "# .flat -> The flattened version of the array"
   ]
  },
  {
   "cell_type": "code",
   "execution_count": null,
   "id": "82aea1ed-7eeb-4a3a-afa1-51c3466fa31a",
   "metadata": {},
   "outputs": [],
   "source": [
    "matrix_A"
   ]
  },
  {
   "cell_type": "code",
   "execution_count": null,
   "id": "744e4e6e-a40e-4e20-a150-bf798b3d67c8",
   "metadata": {},
   "outputs": [],
   "source": [
    "np.histogram2d(matrix_A[0], matrix_A[1], bins = 4)\n",
    "\n",
    "# We pass two datasets for the 2-D histogram. "
   ]
  },
  {
   "cell_type": "code",
   "execution_count": null,
   "id": "91d1bcab-1de6-47f6-9df3-11838308a83e",
   "metadata": {},
   "outputs": [],
   "source": [
    "np.histogramdd(matrix_A.transpose(), bins = 4)"
   ]
  },
  {
   "cell_type": "code",
   "execution_count": null,
   "id": "ddb63342-84e1-4e54-a160-9b4a880d0187",
   "metadata": {},
   "outputs": [],
   "source": [
    "### NaN-Equivalents"
   ]
  },
  {
   "cell_type": "code",
   "execution_count": null,
   "id": "1fd2d2e7-1f32-4aef-a59a-7caf2a0a4e02",
   "metadata": {},
   "outputs": [],
   "source": [
    "matrix_A = np.array([[1,0,0,3,1],[3,6,6,2,9],[4,5,3,8,0]])\n",
    "matrix_A"
   ]
  },
  {
   "cell_type": "code",
   "execution_count": null,
   "id": "f0245adc-3ee7-4793-8034-0042c5f41db0",
   "metadata": {},
   "outputs": [],
   "source": [
    "np.nanmean(matrix_A)"
   ]
  },
  {
   "cell_type": "code",
   "execution_count": null,
   "id": "3f5c7786-f3b1-44b5-a2dd-ccf1b8fef507",
   "metadata": {},
   "outputs": [],
   "source": [
    "np.mean(matrix_A)\n",
    "\n",
    "# NAN functions work the same way as non-NAN functions for non-NAN datasets"
   ]
  },
  {
   "cell_type": "code",
   "execution_count": null,
   "id": "090770a4-67c6-49e0-9958-49b3450390a1",
   "metadata": {},
   "outputs": [],
   "source": [
    "matrix_B = np.array([[1,0,0,3,1],[3,6,np.nan,2,9],[4,5,3,8,0]])\n",
    "matrix_B"
   ]
  },
  {
   "cell_type": "code",
   "execution_count": null,
   "id": "02f2a795-2368-453a-b7a0-0fb918d2cfee",
   "metadata": {},
   "outputs": [],
   "source": [
    "np.nanmean(matrix_B)\n",
    "\n",
    "# NAN functions ignore \"nan\" values and compute the mean. "
   ]
  },
  {
   "cell_type": "code",
   "execution_count": null,
   "id": "931db206-2820-4a49-ac02-ccf2eba47cee",
   "metadata": {},
   "outputs": [],
   "source": [
    "np.mean(matrix_B)\n",
    "\n",
    "# Non-NAN functions return \"nan\" when missing values are present."
   ]
  },
  {
   "cell_type": "code",
   "execution_count": null,
   "id": "a6a6894a-de63-4b1d-a6d2-a690c82dab21",
   "metadata": {},
   "outputs": [],
   "source": [
    "np.nanquantile(matrix_B, 0.7)"
   ]
  },
  {
   "cell_type": "code",
   "execution_count": null,
   "id": "64090f22-c826-432a-a688-f20fa8f7d437",
   "metadata": {},
   "outputs": [],
   "source": [
    "np.nanvar(matrix_B)"
   ]
  },
  {
   "cell_type": "code",
   "execution_count": null,
   "id": "03703cc0-5623-4f9e-a073-ca3bc04a21db",
   "metadata": {},
   "outputs": [],
   "source": []
  },
  {
   "cell_type": "code",
   "execution_count": null,
   "id": "12894040-b3da-4acd-926b-cd4a0a88c0a1",
   "metadata": {},
   "outputs": [],
   "source": []
  },
  {
   "cell_type": "code",
   "execution_count": null,
   "id": "34fe8d2e-46ea-4f1e-bbd0-3b1a10af1002",
   "metadata": {},
   "outputs": [],
   "source": [
    "# Preprocessing with NumPy"
   ]
  },
  {
   "cell_type": "code",
   "execution_count": null,
   "id": "66a2b191-e9d7-42df-82f8-2dd1bc5b4eac",
   "metadata": {},
   "outputs": [],
   "source": [
    "## Checking for Missing Values"
   ]
  },
  {
   "cell_type": "code",
   "execution_count": null,
   "id": "50696d82-ad0b-48ba-8577-c78b1291aac8",
   "metadata": {},
   "outputs": [],
   "source": [
    "lending_co_data_numeric = np.loadtxt(\"Lending-company-Numeric.csv\", delimiter = ',')\n",
    "\n",
    "## If np.loadtxt() compiles first time, the dataset consists of only numeric values and has no missing data. "
   ]
  },
  {
   "cell_type": "code",
   "execution_count": null,
   "id": "69456615-e305-4056-962c-fe043bfe1a35",
   "metadata": {},
   "outputs": [],
   "source": [
    "np.isnan(lending_co_data_numeric).sum()\n",
    "\n",
    "## isnan() determines whether data is missing data for the individual elements in an array (True -> Missing, False -> Not missing)\n",
    "## By adding .sum(), we get the total number of missing elements in the data. "
   ]
  },
  {
   "cell_type": "code",
   "execution_count": null,
   "id": "39dc844e-c264-4b3d-ae1f-276d84ac90c4",
   "metadata": {},
   "outputs": [],
   "source": [
    "lending_co_data_numeric_NAN = np.genfromtxt(\"Lending-company-Numeric-NAN.csv\", delimiter = ';')"
   ]
  },
  {
   "cell_type": "code",
   "execution_count": null,
   "id": "97a1c851-e48a-4c5c-8840-3b23cad738fa",
   "metadata": {},
   "outputs": [],
   "source": [
    "np.isnan(lending_co_data_numeric_NAN).sum()"
   ]
  },
  {
   "cell_type": "code",
   "execution_count": null,
   "id": "02e1d9ce-6f1e-46ab-9e0e-854835d6cf74",
   "metadata": {},
   "outputs": [],
   "source": [
    "lending_co_data_numeric_NAN = np.genfromtxt(\"Lending-company-Numeric-NAN.csv\", \n",
    "                                            delimiter = ';',\n",
    "                                            filling_values = 0)\n",
    "\n",
    "## Filling_values substitutes every nan with the value we're passing (0 in this case)"
   ]
  },
  {
   "cell_type": "code",
   "execution_count": null,
   "id": "b9881b27-f163-4a1a-bea2-7bbeed45491f",
   "metadata": {},
   "outputs": [],
   "source": [
    "np.isnan(lending_co_data_numeric_NAN).sum()\n",
    "\n",
    "## All the previously missing values are now 0s."
   ]
  },
  {
   "cell_type": "code",
   "execution_count": null,
   "id": "df31906b-9240-4000-8639-36dd14eaecef",
   "metadata": {},
   "outputs": [],
   "source": [
    "lending_co_data_numeric_NAN = np.genfromtxt(\"Lending-company-Numeric-NAN.csv\", \n",
    "                                            delimiter = ';') \n",
    "\n",
    "# We need to reimport the dataset since all the missing values are filled up. "
   ]
  },
  {
   "cell_type": "code",
   "execution_count": null,
   "id": "2f0b7cef-2cc2-4b79-9d85-bfdf255caefb",
   "metadata": {},
   "outputs": [],
   "source": [
    "temporary_fill = np.nanmax(lending_co_data_numeric_NAN).round(2) + 1\n",
    "\n",
    "# We use nanmax(), since max() returns nan. \n",
    "# We want a value greater than the max, since we have be certain it's unique to the dataset."
   ]
  },
  {
   "cell_type": "code",
   "execution_count": null,
   "id": "0d5f4773-b917-4570-9e6a-a0413d42d6ca",
   "metadata": {},
   "outputs": [],
   "source": [
    "temporary_fill"
   ]
  },
  {
   "cell_type": "code",
   "execution_count": null,
   "id": "2991351f-c450-4014-a3f4-746cc5609c37",
   "metadata": {},
   "outputs": [],
   "source": [
    "lending_co_data_numeric_NAN = np.genfromtxt(\"Lending-company-Numeric-NAN.csv\", \n",
    "                                            delimiter = ';',\n",
    "                                            filling_values = temporary_fill) \n",
    "\n",
    "# Filling up all the missing values with the temporary filler. "
   ]
  },
  {
   "cell_type": "code",
   "execution_count": null,
   "id": "876c62a2-e42f-45ab-97d3-9a3a3a6e44c6",
   "metadata": {},
   "outputs": [],
   "source": [
    "np.isnan(lending_co_data_numeric_NAN)"
   ]
  },
  {
   "cell_type": "code",
   "execution_count": null,
   "id": "b012e410-626f-4a60-af9f-3499a9c2fc8f",
   "metadata": {},
   "outputs": [],
   "source": [
    "np.isnan(lending_co_data_numeric_NAN).sum()"
   ]
  },
  {
   "cell_type": "code",
   "execution_count": null,
   "id": "6ec9e582-32b4-446b-a80e-d7134b978669",
   "metadata": {},
   "outputs": [],
   "source": [
    "## Substituting Missing Values"
   ]
  },
  {
   "cell_type": "code",
   "execution_count": null,
   "id": "a998f950-eee3-40dc-8e5d-132a3e68b712",
   "metadata": {},
   "outputs": [],
   "source": [
    "lending_co_data_numeric_NAN = np.genfromtxt(\"Lending-company-Numeric-NAN.csv\", delimiter = ';')\n",
    "lending_co_data_numeric_NAN"
   ]
  },
  {
   "cell_type": "code",
   "execution_count": null,
   "id": "e7c41df5-18d4-4fbc-8525-f5c586cdf724",
   "metadata": {},
   "outputs": [],
   "source": [
    "temporary_mean = np.nanmean(lending_co_data_numeric_NAN, axis = 0).round(2)\n",
    "\n",
    "## Storing the means of every column. "
   ]
  },
  {
   "cell_type": "code",
   "execution_count": null,
   "id": "a37499be-985c-417f-a650-f199fa015dce",
   "metadata": {},
   "outputs": [],
   "source": [
    "temporary_mean[0]"
   ]
  },
  {
   "cell_type": "code",
   "execution_count": null,
   "id": "c02789a8-c821-4add-90d0-ad32cb780728",
   "metadata": {},
   "outputs": [],
   "source": [
    "temporary_fill = np.nanmax(lending_co_data_numeric_NAN).round(2) + 1\n",
    "\n",
    "lending_co_data_numeric_NAN = np.genfromtxt(\"Lending-company-Numeric-NAN.csv\",\n",
    "                                            delimiter = ';',\n",
    "                                            filling_values = temporary_fill)\n",
    "\n",
    "## Creating a unique filler and using it to take care of all the missing values."
   ]
  },
  {
   "cell_type": "code",
   "execution_count": null,
   "id": "9893a2d7-2a04-4771-8524-a4e4d3a89f09",
   "metadata": {},
   "outputs": [],
   "source": [
    "temporary_fill"
   ]
  },
  {
   "cell_type": "code",
   "execution_count": null,
   "id": "cbc10a29-acc6-4dc7-a1df-da30def13ad1",
   "metadata": {},
   "outputs": [],
   "source": [
    "np.mean(lending_co_data_numeric_NAN[:,0]).round(2) \n",
    "\n",
    "# Supposed mean (w/ fillers)"
   ]
  },
  {
   "cell_type": "code",
   "execution_count": null,
   "id": "930cc3a4-dc9f-401f-a219-6adba034ae8d",
   "metadata": {},
   "outputs": [],
   "source": [
    "temporary_mean[0]\n",
    "\n",
    "# Actual mean (w/0 fillers)"
   ]
  },
  {
   "cell_type": "code",
   "execution_count": null,
   "id": "77c584df-327a-4d49-88b3-1fe684983692",
   "metadata": {},
   "outputs": [],
   "source": [
    "lending_co_data_numeric_NAN[:,0] = np.where(lending_co_data_numeric_NAN[:,0] == temporary_fill,\n",
    "                                            temporary_mean[0], \n",
    "                                            lending_co_data_numeric_NAN[:,0])\n",
    "\n",
    "# Going through the first column and substituting any temporary fillers (previously missing) with the mean for that column."
   ]
  },
  {
   "cell_type": "code",
   "execution_count": null,
   "id": "78f877ef-e1a3-4db3-827c-ad4be5a4abf2",
   "metadata": {},
   "outputs": [],
   "source": [
    "np.mean(lending_co_data_numeric_NAN[:,0]).round(2)\n",
    "\n",
    "# New mean equals old mean. "
   ]
  },
  {
   "cell_type": "code",
   "execution_count": null,
   "id": "dc0d089e-c3e3-4ec2-9cf4-c22cf6f47dc4",
   "metadata": {},
   "outputs": [],
   "source": [
    "for i in range(lending_co_data_numeric_NAN.shape[1]):        \n",
    "    lending_co_data_numeric_NAN[:,i] = np.where(lending_co_data_numeric_NAN[:,i] == temporary_fill, \n",
    "                                                temporary_mean[i], \n",
    "                                                lending_co_data_numeric_NAN[:,i])\n",
    "    \n",
    "# We're generalizing the filling from earlier and going through all the columns. "
   ]
  },
  {
   "cell_type": "code",
   "execution_count": null,
   "id": "0c4379b1-fb90-42f2-b1f6-881cf464a452",
   "metadata": {},
   "outputs": [],
   "source": [
    "for i in range(lending_co_data_numeric_NAN.shape[1]):        \n",
    "    lending_co_data_numeric_NAN[:,i] = np.where(lending_co_data_numeric_NAN[:, i] < 0,\n",
    "                                                0, \n",
    "                                                lending_co_data_numeric_NAN[:,i])\n",
    "    \n",
    "# We can use this approach for other applications as well (e.g. remove all negative values and set them to 0)"
   ]
  },
  {
   "cell_type": "code",
   "execution_count": null,
   "id": "b2f9c83d-fd71-4b9b-a4d8-60a8326cdfce",
   "metadata": {},
   "outputs": [],
   "source": [
    "## Reshaping"
   ]
  },
  {
   "cell_type": "code",
   "execution_count": null,
   "id": "ef2771cf-0a1c-49e4-bf09-2b2ade26a694",
   "metadata": {},
   "outputs": [],
   "source": [
    "lending_co_data_numeric = np.loadtxt(\"Lending-company-Numeric.csv\", delimiter = ',')"
   ]
  },
  {
   "cell_type": "code",
   "execution_count": null,
   "id": "3839cb50-ce1e-4584-b457-7aa208a0c099",
   "metadata": {},
   "outputs": [],
   "source": [
    "lending_co_data_numeric"
   ]
  },
  {
   "cell_type": "code",
   "execution_count": null,
   "id": "7a7dfd85-ae01-4638-8ce0-6faba3b26810",
   "metadata": {},
   "outputs": [],
   "source": [
    "lending_co_data_numeric.shape"
   ]
  },
  {
   "cell_type": "code",
   "execution_count": null,
   "id": "cadf7897-8eed-4af8-8431-b5f4f48c1a53",
   "metadata": {},
   "outputs": [],
   "source": [
    "np.reshape(lending_co_data_numeric, (6,1043))\n",
    "\n",
    "# Reshaping (1043,6) to (6,1043) is not the same as transposing."
   ]
  },
  {
   "cell_type": "code",
   "execution_count": null,
   "id": "3d615b45-5cf4-4d4a-8e69-16e9b082808b",
   "metadata": {},
   "outputs": [],
   "source": [
    "np.transpose(lending_co_data_numeric)"
   ]
  },
  {
   "cell_type": "code",
   "execution_count": null,
   "id": "9c428a9f-654a-49f4-9350-d1816f26677b",
   "metadata": {},
   "outputs": [],
   "source": [
    "np.reshape(lending_co_data_numeric, (1,1,2,3,1043))\n",
    "\n",
    "# We can choose whatever shape we wish as long as the product of the dimensions matches the total number of elements in the array."
   ]
  },
  {
   "cell_type": "code",
   "execution_count": null,
   "id": "15a0786c-0d91-499d-9541-749989b780da",
   "metadata": {},
   "outputs": [],
   "source": [
    "lending_co_data_numeric\n",
    "\n",
    "# Reshaping doesn't alter the original array. "
   ]
  },
  {
   "cell_type": "code",
   "execution_count": null,
   "id": "d81ec083-e2ab-44c0-b423-c84b864a559e",
   "metadata": {},
   "outputs": [],
   "source": [
    "lending_co_data_numeric_2 = np.reshape(lending_co_data_numeric, (6,1043))\n",
    "lending_co_data_numeric_2"
   ]
  },
  {
   "cell_type": "code",
   "execution_count": null,
   "id": "05157494-d577-4605-8b12-6ab976606bcc",
   "metadata": {},
   "outputs": [],
   "source": [
    "lending_co_data_numeric.reshape(6,1043)\n",
    "\n",
    "# Equivalent method. "
   ]
  },
  {
   "cell_type": "code",
   "execution_count": null,
   "id": "69ce2764-da1d-4458-ba46-e9f47b7dcdac",
   "metadata": {},
   "outputs": [],
   "source": [
    "lending_co_data_numeric"
   ]
  },
  {
   "cell_type": "code",
   "execution_count": null,
   "id": "54f3853e-a8a6-4911-bb9c-74d12c29a016",
   "metadata": {},
   "outputs": [],
   "source": []
  },
  {
   "cell_type": "code",
   "execution_count": null,
   "id": "bfdbe5e0-e7b8-40e3-bbc9-801c37f92291",
   "metadata": {},
   "outputs": [],
   "source": [
    "## Removing Values"
   ]
  },
  {
   "cell_type": "code",
   "execution_count": null,
   "id": "44fa66cb-ab8e-4ffa-904c-c4b6fd53be1c",
   "metadata": {},
   "outputs": [],
   "source": [
    "lending_co_data_numeric = np.loadtxt(\"Lending-company-Numeric.csv\", delimiter = ',') "
   ]
  },
  {
   "cell_type": "code",
   "execution_count": null,
   "id": "92f78e37-3ac3-40ca-9be7-a76048c1a0c3",
   "metadata": {},
   "outputs": [],
   "source": [
    "lending_co_data_numeric"
   ]
  },
  {
   "cell_type": "code",
   "execution_count": null,
   "id": "87d1c09b-fadc-4ad1-9b5e-5135732f82cf",
   "metadata": {},
   "outputs": [],
   "source": [
    "np.delete(lending_co_data_numeric, 0).shape\n",
    "\n",
    "# Removes the first value of the flattened array. "
   ]
  },
  {
   "cell_type": "code",
   "execution_count": null,
   "id": "4fe0dfcf-8b7d-4917-a9ed-828125f8d1ba",
   "metadata": {},
   "outputs": [],
   "source": [
    "lending_co_data_numeric.size"
   ]
  },
  {
   "cell_type": "code",
   "execution_count": null,
   "id": "a1264db6-6478-472d-ad87-0ef7074f8339",
   "metadata": {},
   "outputs": [],
   "source": [
    "lending_co_data_numeric"
   ]
  },
  {
   "cell_type": "code",
   "execution_count": null,
   "id": "25b7d24b-852f-482c-ae37-faf43f102053",
   "metadata": {},
   "outputs": [],
   "source": [
    "np.delete(lending_co_data_numeric, [0,2,4] , axis = 1)\n",
    "\n",
    "# By setting an axis, we can simultaneously delete entire rows or columns. "
   ]
  },
  {
   "cell_type": "code",
   "execution_count": null,
   "id": "3f62a966-27e0-4a5a-bdc5-7f859d085bd7",
   "metadata": {},
   "outputs": [],
   "source": [
    "np.delete(np.delete(lending_co_data_numeric, [0,2,4] , axis = 1), [0,2,-1] , axis = 0)\n",
    "\n",
    "# We can simultaneously delete rows AND columns. "
   ]
  },
  {
   "cell_type": "code",
   "execution_count": null,
   "id": "b6070d21-6fbc-4855-817b-a9f03aa5f560",
   "metadata": {},
   "outputs": [],
   "source": [
    "## Sorting Data"
   ]
  },
  {
   "cell_type": "code",
   "execution_count": null,
   "id": "d1ddb813-05b1-4f43-a1c8-41823c261bb3",
   "metadata": {},
   "outputs": [],
   "source": [
    "lending_co_data_numeric = np.loadtxt(\"Lending-company-Numeric.csv\", delimiter = ',') \n",
    "lending_co_data_numeric"
   ]
  },
  {
   "cell_type": "code",
   "execution_count": null,
   "id": "54573286-14d7-470d-8935-30d5796cc7da",
   "metadata": {},
   "outputs": [],
   "source": [
    "np.sort(lending_co_data_numeric).shape"
   ]
  },
  {
   "cell_type": "code",
   "execution_count": null,
   "id": "ddb73d9f-ee07-4ae7-acf5-96b52b570937",
   "metadata": {},
   "outputs": [],
   "source": [
    "lending_co_data_numeric.shape"
   ]
  },
  {
   "cell_type": "code",
   "execution_count": null,
   "id": "cff21a0e-693e-4370-9e86-c932a2e7d231",
   "metadata": {},
   "outputs": [],
   "source": [
    "np.sort(lending_co_data_numeric, axis = None)"
   ]
  },
  {
   "cell_type": "code",
   "execution_count": null,
   "id": "cb8581a9-3097-4377-a5f2-8c5b76e5b0f4",
   "metadata": {},
   "outputs": [],
   "source": [
    "np.set_printoptions(suppress = True)\n",
    "\n",
    "# Supresses scientific notatoin when printing. "
   ]
  },
  {
   "cell_type": "code",
   "execution_count": null,
   "id": "19ef59de-4946-4099-b277-fac7f7cc1f1b",
   "metadata": {},
   "outputs": [],
   "source": [
    "np.sort(lending_co_data_numeric)"
   ]
  },
  {
   "cell_type": "code",
   "execution_count": null,
   "id": "b00435d4-5bff-4d1c-b63c-15f0b6aecdc5",
   "metadata": {},
   "outputs": [],
   "source": [
    "-np.sort(-lending_co_data_numeric)\n",
    "\n",
    "## Adding two minus signs sorts the array in descending order"
   ]
  },
  {
   "cell_type": "code",
   "execution_count": null,
   "id": "65ef352f-7141-47c3-8500-7f19587d2df4",
   "metadata": {},
   "outputs": [],
   "source": [
    "lending_co_data_numeric"
   ]
  },
  {
   "cell_type": "code",
   "execution_count": null,
   "id": "11404c94-125b-49e7-918a-26268777c151",
   "metadata": {},
   "outputs": [],
   "source": [
    "lending_co_data_numeric.sort(axis = 0)\n",
    "lending_co_data_numeric\n",
    "\n",
    "# The equivalent method stores the values in place. "
   ]
  },
  {
   "cell_type": "code",
   "execution_count": null,
   "id": "30b91968-aac1-4ee7-9492-739c120f1efe",
   "metadata": {},
   "outputs": [],
   "source": [
    "## Argument Functions"
   ]
  },
  {
   "cell_type": "code",
   "execution_count": null,
   "id": "a3e05079-ad1f-4880-bce3-2820dd56563b",
   "metadata": {},
   "outputs": [],
   "source": [
    "### np.argsort()"
   ]
  },
  {
   "cell_type": "code",
   "execution_count": null,
   "id": "0f3badcc-ecce-41d2-9aa5-de243482de51",
   "metadata": {},
   "outputs": [],
   "source": [
    "lending_co_data_numeric = np.loadtxt(\"Lending-company-Numeric.csv\", delimiter = ',') \n",
    "lending_co_data_numeric"
   ]
  },
  {
   "cell_type": "code",
   "execution_count": null,
   "id": "76052e3a-61b3-4f22-acd1-eed22c1a6cd7",
   "metadata": {},
   "outputs": [],
   "source": [
    "np.argsort(lending_co_data_numeric)\n",
    "\n",
    "# Returns the order which will sort the array. "
   ]
  },
  {
   "cell_type": "code",
   "execution_count": null,
   "id": "b56e743e-bdee-43f0-9aea-8ac08d338e72",
   "metadata": {},
   "outputs": [],
   "source": [
    "np.sort(lending_co_data_numeric, axis = 0)"
   ]
  },
  {
   "cell_type": "code",
   "execution_count": null,
   "id": "d15a89e0-7ddd-4793-aab0-70f184f23cd4",
   "metadata": {},
   "outputs": [],
   "source": [
    "np.argsort(lending_co_data_numeric, axis = 0)"
   ]
  },
  {
   "cell_type": "code",
   "execution_count": null,
   "id": "5ceec8a1-7109-450f-9423-53111daa1ea7",
   "metadata": {},
   "outputs": [],
   "source": [
    "lending_co_data_numeric[482,5]"
   ]
  },
  {
   "cell_type": "code",
   "execution_count": null,
   "id": "65a2c98b-1c0d-47d1-b1de-8b10d31387d1",
   "metadata": {},
   "outputs": [],
   "source": [
    "lending_co_data_numeric = lending_co_data_numeric[np.argsort(lending_co_data_numeric[:,0])]\n",
    "lending_co_data_numeric\n",
    "\n",
    "# Sorts the array based on the values in the 1st column. "
   ]
  },
  {
   "cell_type": "code",
   "execution_count": null,
   "id": "035a610f-5aa0-42bd-9063-d0dbff386bd0",
   "metadata": {},
   "outputs": [],
   "source": [
    "lending_co_data_numeric.argsort(axis = 0)\n",
    "\n",
    "# The method doesn't sort in place. "
   ]
  },
  {
   "cell_type": "code",
   "execution_count": null,
   "id": "f372d809-5583-43e0-a704-38ba8be97397",
   "metadata": {},
   "outputs": [],
   "source": [
    "lending_co_data_numeric"
   ]
  },
  {
   "cell_type": "code",
   "execution_count": null,
   "id": "0e48a0cc-87fb-4e19-a847-2116e0a5f734",
   "metadata": {},
   "outputs": [],
   "source": [
    "### np.argwhere()"
   ]
  },
  {
   "cell_type": "code",
   "execution_count": null,
   "id": "4292ab4d-80d6-4a75-be2f-c87b5394e3ee",
   "metadata": {},
   "outputs": [],
   "source": [
    "lending_co_data_numeric = np.loadtxt(\"Lending-company-Numeric.csv\", delimiter = ',') \n",
    "lending_co_data_numeric"
   ]
  },
  {
   "cell_type": "code",
   "execution_count": null,
   "id": "be8a5f44-872c-4492-8e48-48d8f2debffc",
   "metadata": {},
   "outputs": [],
   "source": [
    "np.argwhere(lending_co_data_numeric == False)\n",
    "\n",
    "# Default condition is to return values different from 0. "
   ]
  },
  {
   "cell_type": "code",
   "execution_count": null,
   "id": "693a164b-e78c-4e67-8cbe-eff96f9cd0d9",
   "metadata": {},
   "outputs": [],
   "source": [
    "lending_co_data_numeric[430]"
   ]
  },
  {
   "cell_type": "code",
   "execution_count": null,
   "id": "3b7dd09b-dfb6-4782-a73b-f7c2937d58ea",
   "metadata": {},
   "outputs": [],
   "source": [
    "lending_co_data_numeric"
   ]
  },
  {
   "cell_type": "code",
   "execution_count": null,
   "id": "4506ee87-2c11-4f78-afec-7fcdece14585",
   "metadata": {},
   "outputs": [],
   "source": [
    "np.argwhere(lending_co_data_numeric %2 == 0)\n",
    "\n",
    "# The condition can be more complex "
   ]
  },
  {
   "cell_type": "code",
   "execution_count": null,
   "id": "df43e2a6-9a3f-4b5c-a863-e4738274a696",
   "metadata": {},
   "outputs": [],
   "source": [
    "np.isnan(lending_co_data_numeric).sum()"
   ]
  },
  {
   "cell_type": "code",
   "execution_count": null,
   "id": "5588ca95-4cd6-4d67-aa1f-105f5772c7d6",
   "metadata": {},
   "outputs": [],
   "source": [
    "lending_co_data_numeric_NAN = np.genfromtxt(\"Lending-company-Numeric-NAN.csv\", delimiter = ';') \n",
    "lending_co_data_numeric_NAN"
   ]
  },
  {
   "cell_type": "code",
   "execution_count": null,
   "id": "1a271386-cadb-401f-b28d-d1795f79e064",
   "metadata": {},
   "outputs": [],
   "source": [
    "np.argwhere(np.isnan(lending_co_data_numeric_NAN))\n",
    "\n",
    "# Returns the coordinates of all the missing values within the array. "
   ]
  },
  {
   "cell_type": "code",
   "execution_count": null,
   "id": "c75dd816-8298-410f-b005-c0f2b376a1dc",
   "metadata": {},
   "outputs": [],
   "source": [
    "lending_co_data_numeric_NAN[175]"
   ]
  },
  {
   "cell_type": "code",
   "execution_count": null,
   "id": "f69e1a2a-df8f-46d0-a007-db6800474170",
   "metadata": {},
   "outputs": [],
   "source": [
    "for array_index in np.argwhere(np.isnan(lending_co_data_numeric_NAN)):\n",
    "    lending_co_data_numeric_NAN[array_index[0], array_index[1]] = 0\n",
    "\n",
    "## By going through the coordinates of all the mising values of the array, we can fill them up. "
   ]
  },
  {
   "cell_type": "code",
   "execution_count": null,
   "id": "de5b9cc7-9e43-4d3e-9f85-de4e68ce330f",
   "metadata": {},
   "outputs": [],
   "source": [
    "lending_co_data_numeric_NAN[175]"
   ]
  },
  {
   "cell_type": "code",
   "execution_count": null,
   "id": "c3f59913-1b20-44a6-a1c3-e45e72e9a7b4",
   "metadata": {},
   "outputs": [],
   "source": [
    "np.isnan(lending_co_data_numeric_NAN).sum()"
   ]
  },
  {
   "cell_type": "code",
   "execution_count": null,
   "id": "7cb5d950-ccf1-401d-ad2d-ff7c7e3d159e",
   "metadata": {},
   "outputs": [],
   "source": [
    "## Shuffling Data"
   ]
  },
  {
   "cell_type": "code",
   "execution_count": null,
   "id": "15d928ca-6ef3-4401-a44b-fa3c8bc3a24e",
   "metadata": {},
   "outputs": [],
   "source": [
    "lending_co_data_numeric = np.loadtxt(\"Lending-company-Numeric.csv\", delimiter = ',')[:8]\n",
    "lending_co_data_numeric\n",
    "\n",
    "# We can directly index the output of the np.loadtxt() function to only take certain parts of the dataset. "
   ]
  },
  {
   "cell_type": "code",
   "execution_count": null,
   "id": "ebaa9c41-b7e6-4cc8-ba1d-c596ff1f7d0e",
   "metadata": {},
   "outputs": [],
   "source": [
    "np.random.shuffle(lending_co_data_numeric)\n",
    "\n",
    "# Shuffles the array (and automatically overwrites it)."
   ]
  },
  {
   "cell_type": "code",
   "execution_count": null,
   "id": "228b61a1-7f93-4d3c-b7d4-857de9d47505",
   "metadata": {},
   "outputs": [],
   "source": [
    "lending_co_data_numeric"
   ]
  },
  {
   "cell_type": "code",
   "execution_count": null,
   "id": "18b847cb-60de-40b1-8e03-3de83e768364",
   "metadata": {},
   "outputs": [],
   "source": [
    "np.random.shuffle(lending_co_data_numeric)\n",
    "lending_co_data_numeric\n",
    "\n",
    "# We can shuffle the array as many times as we wish (although 1 usually suffices)."
   ]
  },
  {
   "cell_type": "code",
   "execution_count": null,
   "id": "f79ef5e8-74e1-4def-956b-64b577f30fdc",
   "metadata": {},
   "outputs": [],
   "source": [
    "lending_co_data_numeric = np.loadtxt(\"Lending-company-Numeric.csv\", delimiter = ',')\n",
    "lending_co_data_numeric\n",
    "\n",
    "# We can now use the entire dataset. "
   ]
  },
  {
   "cell_type": "code",
   "execution_count": null,
   "id": "6f753883-f97c-4b3d-8155-ee87267fb065",
   "metadata": {},
   "outputs": [],
   "source": [
    "from numpy.random import shuffle\n",
    "\n",
    "# We can import functions we use multiple times for convenience. "
   ]
  },
  {
   "cell_type": "code",
   "execution_count": null,
   "id": "7a976fe7-31c1-4682-90af-1992fe1c4b6e",
   "metadata": {},
   "outputs": [],
   "source": [
    "shuffle(lending_co_data_numeric)\n",
    "lending_co_data_numeric\n",
    "\n",
    "# We write shuffle() instead of numpy.random.shuffle() since we imported the function earlier. "
   ]
  },
  {
   "cell_type": "code",
   "execution_count": null,
   "id": "ed1f2ff0-7b26-47f5-98a7-12e7f871dc68",
   "metadata": {},
   "outputs": [],
   "source": [
    "from numpy.random import Generator as gen\n",
    "from numpy.random import PCG64 as pcg\n",
    "\n",
    "# Random generators can be used for shuffling. "
   ]
  },
  {
   "cell_type": "code",
   "execution_count": null,
   "id": "42a1e231-bcbd-40cb-a415-f13f2901ed0d",
   "metadata": {},
   "outputs": [],
   "source": [
    "array_RG = gen(pcg(seed = 365))\n",
    "array_RG.shuffle(lending_co_data_numeric)\n",
    "lending_co_data_numeric\n",
    "\n",
    "# Seeds don't work for shuffling (and it's intended)."
   ]
  },
  {
   "cell_type": "code",
   "execution_count": null,
   "id": "f0b980f4-e468-4a3a-815b-c27bec7c6c89",
   "metadata": {},
   "outputs": [],
   "source": [
    "## Casting"
   ]
  },
  {
   "cell_type": "code",
   "execution_count": null,
   "id": "9d0ead2a-90b6-4484-a15c-2a85c55e7c3c",
   "metadata": {},
   "outputs": [],
   "source": [
    "lending_co_data_numeric = np.loadtxt(\"Lending-company-Numeric.csv\", delimiter = ',') \n",
    "lending_co_data_numeric"
   ]
  },
  {
   "cell_type": "code",
   "execution_count": null,
   "id": "844aafe1-bd67-4392-babb-aabf2a408a22",
   "metadata": {},
   "outputs": [],
   "source": [
    "lending_co_data_numeric.astype(dtype = np.int32)\n",
    "\n",
    "# Creates an integer version of the array. "
   ]
  },
  {
   "cell_type": "code",
   "execution_count": null,
   "id": "a65ff0a3-bb53-4a64-bba1-282fb4ff74a1",
   "metadata": {},
   "outputs": [],
   "source": [
    "lending_co_data_numeric = lending_co_data_numeric.astype(dtype = np.str)\n",
    "\n",
    "# We need to overwrite the variable in order to work with strings. "
   ]
  },
  {
   "cell_type": "code",
   "execution_count": null,
   "id": "f5f14454-50dd-4f65-b0fe-069fb2b12684",
   "metadata": {},
   "outputs": [],
   "source": [
    "lending_co_data_numeric"
   ]
  },
  {
   "cell_type": "code",
   "execution_count": null,
   "id": "ec805e2b-15b6-40f9-9ad3-d526bb1646f7",
   "metadata": {},
   "outputs": [],
   "source": [
    "type(lending_co_data_numeric)"
   ]
  },
  {
   "cell_type": "code",
   "execution_count": null,
   "id": "53964b30-d80d-470a-804b-dbf4569c56ac",
   "metadata": {},
   "outputs": [],
   "source": [
    "lending_co_data_numeric = lending_co_data_numeric.astype(dtype = np.float32)\n",
    "lending_co_data_numeric.astype(dtype = np.int32)\n",
    "\n",
    "## We can't directly cast strings to integers. We can go through floats (string -> float -> integer)."
   ]
  },
  {
   "cell_type": "code",
   "execution_count": null,
   "id": "2e4deffd-87f2-48eb-980a-a050097ef18f",
   "metadata": {},
   "outputs": [],
   "source": [
    "lending_co_data_numeric = np.loadtxt(\"Lending-company-Numeric.csv\", delimiter = ',')\n",
    "lending_co_data_numeric = lending_co_data_numeric.astype(dtype = np.str)\n",
    "lending_co_data_numeric\n",
    "\n",
    "# To showcase the other way to go from strings to integers, we need to get the strings version of the array once again. "
   ]
  },
  {
   "cell_type": "code",
   "execution_count": null,
   "id": "bb77363d-352d-4a24-8526-5d224f0280dc",
   "metadata": {},
   "outputs": [],
   "source": [
    "lending_co_data_numeric.astype(dtype = np.float32).astype(dtype = np.int32)\n",
    "lending_co_data_numeric\n",
    "\n",
    "## We can chain methods in NumPy."
   ]
  },
  {
   "cell_type": "code",
   "execution_count": null,
   "id": "4410db53-23a8-4b9b-a159-341e8e2d72f6",
   "metadata": {},
   "outputs": [],
   "source": [
    "## Stripping Data"
   ]
  },
  {
   "cell_type": "code",
   "execution_count": null,
   "id": "3129bff7-bf87-486f-b423-3dc0012f2acf",
   "metadata": {},
   "outputs": [],
   "source": [
    "lending_co_total_price = np.genfromtxt(\"Lending-Company-Total-Price.csv\",\n",
    "                                       delimiter = ',',\n",
    "                                       dtype = np.str,\n",
    "                                       skip_header = 1, \n",
    "                                       usecols = [1,2,4])\n",
    "lending_co_total_price\n",
    "\n",
    "# We don't neeed the entire array. We only want a few columns to showcase how stripping data works."
   ]
  },
  {
   "cell_type": "code",
   "execution_count": null,
   "id": "3c1bbbb2-0f76-4292-b987-8ba441150563",
   "metadata": {},
   "outputs": [],
   "source": [
    "lending_co_total_price[:,0] = np.chararray.strip(lending_co_total_price[:,0], \"id_\")\n",
    "lending_co_total_price[:,1] = np.chararray.strip(lending_co_total_price[:,1], \"Product \")\n",
    "lending_co_total_price[:,2] = np.chararray.strip(lending_co_total_price[:,2], \"Location \")\n",
    "lending_co_total_price\n",
    "\n",
    "# Remove \"id_\" from the 1st column, as well as \"Product \" from the second and \"Location \" from the third one. "
   ]
  },
  {
   "cell_type": "code",
   "execution_count": null,
   "id": "3f03dddc-e588-4e54-8f1f-ca6206e43079",
   "metadata": {},
   "outputs": [],
   "source": [
    "lending_co_total_price[:,1] = np.where(lending_co_total_price[:,1] == 'A', 1, lending_co_total_price[:,1]) \n",
    "lending_co_total_price[:,1] = np.where(lending_co_total_price[:,1] == 'B', 2, lending_co_total_price[:,1]) \n",
    "lending_co_total_price[:,1] = np.where(lending_co_total_price[:,1] == 'C', 3, lending_co_total_price[:,1]) \n",
    "lending_co_total_price[:,1] = np.where(lending_co_total_price[:,1] == 'D', 4, lending_co_total_price[:,1]) \n",
    "lending_co_total_price[:,1] = np.where(lending_co_total_price[:,1] == 'E', 5, lending_co_total_price[:,1]) \n",
    "lending_co_total_price[:,1] = np.where(lending_co_total_price[:,1] == 'F', 6, lending_co_total_price[:,1]) \n",
    "\n",
    "lending_co_total_price\n",
    "\n",
    "# We can combine stripping with substituting to transform all the letters in numbers. "
   ]
  },
  {
   "cell_type": "code",
   "execution_count": null,
   "id": "b5406b97-3908-47b2-885c-26e8fe0fbed2",
   "metadata": {},
   "outputs": [],
   "source": [
    "lending_co_total_price = lending_co_total_price.astype(dtype = np.int32)\n",
    "lending_co_total_price\n",
    "\n",
    "# Even though the values look like numbers, they're actually just text, so we need to cast them once again. "
   ]
  },
  {
   "cell_type": "code",
   "execution_count": null,
   "id": "3dbc08e2-a87c-4ee5-aa5e-8239f8637f4c",
   "metadata": {},
   "outputs": [],
   "source": [
    "## Stacking"
   ]
  },
  {
   "cell_type": "code",
   "execution_count": null,
   "id": "d5e7228d-8185-4600-882d-dae695116a62",
   "metadata": {},
   "outputs": [],
   "source": [
    "lending_co_data_numeric = np.loadtxt(\"Lending-company-Numeric.csv\", delimiter = ',') \n",
    "lending_co_data_numeric"
   ]
  },
  {
   "cell_type": "code",
   "execution_count": null,
   "id": "f33ce04e-f42c-43ab-b37d-ff1e7959e6ba",
   "metadata": {},
   "outputs": [],
   "source": [
    "# Recall\n",
    "\n",
    "lending_co_data_numeric_NAN = np.genfromtxt(\"Lending-company-Numeric-NAN.csv\", delimiter = ';')\n",
    "\n",
    "temporary_fill = np.nanmax(lending_co_data_numeric_NAN).round(2) + 1\n",
    "temporary_mean = np.nanmean(lending_co_data_numeric_NAN, axis = 0).round(2)\n",
    "\n",
    "lending_co_data_numeric_NAN = np.genfromtxt(\"Lending-company-Numeric-NAN.csv\", \n",
    "                                            delimiter = ';', \n",
    "                                            filling_values = temporary_fill)\n",
    "\n",
    "for i in range(lending_co_data_numeric_NAN.shape[1]):\n",
    "    lending_co_data_numeric_NAN[:,i] = np.where(lending_co_data_numeric_NAN[:,i] == temporary_fill,\n",
    "                                                temporary_mean[i],\n",
    "                                                lending_co_data_numeric_NAN[:,i])\n",
    "lending_co_data_numeric_NAN\n",
    "\n",
    "\n",
    "## We create a filler, reimport and fill all the nan-s, then subsitute all the temporary fillers with more appropriate values"
   ]
  },
  {
   "cell_type": "code",
   "execution_count": null,
   "id": "353f215b-37c8-44a5-b749-248bf9d6435d",
   "metadata": {},
   "outputs": [],
   "source": [
    "np.stack((lending_co_data_numeric[:,1],lending_co_data_numeric[:,0]))\n",
    "\n",
    "# Stacking the first 2 columns. (We can stack them in any order we like)"
   ]
  },
  {
   "cell_type": "code",
   "execution_count": null,
   "id": "dff8b417-f758-44ff-b2d2-4b620805b925",
   "metadata": {},
   "outputs": [],
   "source": [
    "np.transpose(lending_co_data_numeric[:,:2])"
   ]
  },
  {
   "cell_type": "code",
   "execution_count": null,
   "id": "632eaf34-4921-45c7-857d-4d95d42cc346",
   "metadata": {},
   "outputs": [],
   "source": [
    "np.stack((lending_co_data_numeric[:,0],lending_co_data_numeric[:,1], lending_co_data_numeric[:,2]), axis = 1)\n",
    "\n",
    "# We can stack more than 2 arrays. "
   ]
  },
  {
   "cell_type": "code",
   "execution_count": null,
   "id": "5fb2c04b-26e0-413e-9bd0-7bcdc6c06188",
   "metadata": {},
   "outputs": [],
   "source": [
    "lending_co_data_numeric_NAN.shape"
   ]
  },
  {
   "cell_type": "code",
   "execution_count": null,
   "id": "915fdded-2217-4a77-aa61-7909a1f50564",
   "metadata": {},
   "outputs": [],
   "source": [
    "np.dstack((lending_co_data_numeric, lending_co_data_numeric_NAN))[0,:,0]\n",
    "\n",
    "# We can stack 2-D arrays as well. "
   ]
  },
  {
   "cell_type": "code",
   "execution_count": null,
   "id": "7480cab5-daab-4166-99ad-db7efae3eb11",
   "metadata": {},
   "outputs": [],
   "source": [
    "np.stack((lending_co_data_numeric, lending_co_data_numeric_NAN), axis = -1)\n",
    "\n",
    "# We can stack along a given axis (with np.stack())"
   ]
  },
  {
   "cell_type": "code",
   "execution_count": null,
   "id": "1bebd6b3-6533-4e8c-be0a-30c2a71eda1e",
   "metadata": {},
   "outputs": [],
   "source": [
    "array_example_1 = np.array([[[1,2,3,4],[5,6,7,8],[9,10,11,12]],[[21,22,23,24],[25,26,27,28],[29,30,31,32]]])\n",
    "array_example_2 = array_example_1 * 2\n",
    "\n",
    "# We're quickly creating some 3-D arrays to showcase how dstack works for higher dimensions. "
   ]
  },
  {
   "cell_type": "code",
   "execution_count": null,
   "id": "852c8353-bb4a-405e-831f-29a9c9920b8b",
   "metadata": {},
   "outputs": [],
   "source": [
    "np.dstack((array_example_1, array_example_2)).shape"
   ]
  },
  {
   "cell_type": "code",
   "execution_count": null,
   "id": "4770e276-e4f1-4cee-8c4a-69fd567e9a75",
   "metadata": {},
   "outputs": [],
   "source": [
    "np.stack((array_example_1, array_example_2), axis = 2).shape\n",
    "\n",
    "# We can no longer replicate the output of dstack by simply specifying an axis. "
   ]
  },
  {
   "cell_type": "code",
   "execution_count": null,
   "id": "e85fe99c-718a-43dc-b61d-8a8b3794d36d",
   "metadata": {},
   "outputs": [],
   "source": [
    "## Concatenate"
   ]
  },
  {
   "cell_type": "code",
   "execution_count": null,
   "id": "6489c724-ffba-4819-86e6-3ce78e009ac2",
   "metadata": {},
   "outputs": [],
   "source": [
    "lending_co_data_numeric = np.loadtxt(\"Lending-company-Numeric.csv\", delimiter = ',') \n",
    "lending_co_data_numeric"
   ]
  },
  {
   "cell_type": "code",
   "execution_count": null,
   "id": "168d5792-36f8-4eba-85ed-b466886c3371",
   "metadata": {},
   "outputs": [],
   "source": [
    "np.concatenate((lending_co_data_numeric[0,:], lending_co_data_numeric[1,:]))\n",
    "\n",
    "# The concatenated array has the same number of dimensions as the inputs. "
   ]
  },
  {
   "cell_type": "code",
   "execution_count": null,
   "id": "6a3522da-aba6-4867-8872-c583434e5bcc",
   "metadata": {},
   "outputs": [],
   "source": [
    "#Recall: \n",
    "    \n",
    "lending_co_data_numeric_NAN = np.genfromtxt(\"Lending-company-Numeric-NAN.csv\", delimiter = ';')\n",
    "\n",
    "temporary_fill = np.nanmax(lending_co_data_numeric_NAN).round(2) + 1\n",
    "temporary_mean = np.nanmean(lending_co_data_numeric_NAN, axis = 0).round(2)\n",
    "\n",
    "lending_co_data_numeric_NAN = np.genfromtxt(\"Lending-company-Numeric-NAN.csv\",\n",
    "                                            delimiter = ';', \n",
    "                                            filling_values = temporary_fill)\n",
    "\n",
    "for i in range(lending_co_data_numeric_NAN.shape[1]):        \n",
    "    lending_co_data_numeric_NAN[:,i] = np.where(lending_co_data_numeric_NAN[:,i] == temporary_fill,\n",
    "                                                temporary_mean[i],\n",
    "                                                lending_co_data_numeric_NAN[:,i])\n",
    "    \n",
    "lending_co_data_numeric_NAN"
   ]
  },
  {
   "cell_type": "code",
   "execution_count": null,
   "id": "49f17a73-970a-4613-b58a-82a477c8632c",
   "metadata": {},
   "outputs": [],
   "source": [
    "np.concatenate((lending_co_data_numeric, lending_co_data_numeric_NAN), axis = 1).shape"
   ]
  },
  {
   "cell_type": "code",
   "execution_count": null,
   "id": "89c1f5e1-f741-43da-938e-c53cd1db4ad3",
   "metadata": {},
   "outputs": [],
   "source": [
    "array_example_1 = np.array([[[1,2,3,4],[5,6,7,8],[9,10,11,12]],[[21,22,23,24],[25,26,27,28],[29,30,31,32]]])\n",
    "array_example_2 = array_example_1 * 2\n",
    "\n",
    "# We create 3-D arrays to showcase concatenate vs stacking"
   ]
  },
  {
   "cell_type": "code",
   "execution_count": null,
   "id": "d8a7a731-710a-4dab-a31f-a2a18aea4301",
   "metadata": {},
   "outputs": [],
   "source": [
    "np.concatenate((array_example_1, array_example_2), axis = 2)"
   ]
  },
  {
   "cell_type": "code",
   "execution_count": null,
   "id": "b9e8ee53-9dd7-446e-b671-bee20c449c3a",
   "metadata": {},
   "outputs": [],
   "source": [
    "np.dstack((array_example_1, array_example_2))"
   ]
  },
  {
   "cell_type": "code",
   "execution_count": null,
   "id": "44f9a09a-cf19-488a-a57e-518395eda292",
   "metadata": {},
   "outputs": [],
   "source": [
    "np.concatenate((lending_co_data_numeric, lending_co_data_numeric[:,:1]), axis = 1)"
   ]
  },
  {
   "cell_type": "code",
   "execution_count": null,
   "id": "930b0e09-ffe6-45e9-80d2-c203c0cf97bc",
   "metadata": {},
   "outputs": [],
   "source": [
    "## Unique "
   ]
  },
  {
   "cell_type": "code",
   "execution_count": null,
   "id": "2f1e9b0c-e0d3-4932-976d-f99ead80663f",
   "metadata": {},
   "outputs": [],
   "source": [
    "lending_co_data_numeric = np.loadtxt(\"Lending-company-Numeric.csv\", delimiter = ',') \n",
    "lending_co_data_numeric"
   ]
  },
  {
   "cell_type": "code",
   "execution_count": null,
   "id": "d2759109-ae97-4938-a972-208eeef21c9a",
   "metadata": {},
   "outputs": [],
   "source": [
    "np.unique(lending_co_data_numeric[:,1], return_counts = True, return_index = True)\n",
    "\n",
    "# Unique -> returns the unique values within the array in increasing order\n",
    "# return_counts -> returns how many times each unique value appears in the array\n",
    "# return_index -> returns the index of the first encounter with each unique value"
   ]
  },
  {
   "cell_type": "code",
   "execution_count": null,
   "id": "7f631d33-9a45-4e48-9a41-e2bc6caac810",
   "metadata": {},
   "outputs": [],
   "source": [
    "array_example = np.array([\"a1\", \"a3\",\"A1\",\"A3\",\"A3\",\"AA1\",\"B1\",\"A2\",\"B1\",\"A2\",\"B2\",\"B2\", \"B3\",\"a2\",\"a3\",\"B3\",\"B3\",\"a3\" ])\n",
    "np.unique(array_example)\n",
    "\n",
    "# If the values of the array are text, the unique function sorts them in \"alphabetical\" order by their ASCII codes. "
   ]
  },
  {
   "cell_type": "code",
   "execution_count": null,
   "id": "66eba611-f4f1-42ce-82af-7b14cc2ee203",
   "metadata": {},
   "outputs": [],
   "source": []
  },
  {
   "cell_type": "code",
   "execution_count": null,
   "id": "1670f60e-c5e8-4c25-af78-2c320221b0ff",
   "metadata": {},
   "outputs": [],
   "source": []
  },
  {
   "cell_type": "code",
   "execution_count": null,
   "id": "95a00dc0-a07a-4abe-9d20-901404a42130",
   "metadata": {},
   "outputs": [],
   "source": []
  },
  {
   "cell_type": "code",
   "execution_count": null,
   "id": "d100bb87-faab-45c2-951b-6c623cfccb23",
   "metadata": {},
   "outputs": [],
   "source": [
    "#A loan data with woth Example numPy"
   ]
  },
  {
   "cell_type": "code",
   "execution_count": null,
   "id": "29e8a1fc-75b1-43ff-9aa3-1cb6be20cf74",
   "metadata": {},
   "outputs": [],
   "source": [
    "np.set_printoptions(suppress = True, linewidth = 100, precision = 2)"
   ]
  },
  {
   "cell_type": "code",
   "execution_count": null,
   "id": "78df44f7-0311-45bc-b94d-4fca6bd5d4d1",
   "metadata": {},
   "outputs": [],
   "source": [
    "## Importing the Data"
   ]
  },
  {
   "cell_type": "code",
   "execution_count": null,
   "id": "de65a4b2-a4c0-4f2d-8de4-d8fce425b3f3",
   "metadata": {},
   "outputs": [],
   "source": [
    "raw_data_np = np.genfromtxt(\"loan-data.csv\", delimiter = ';', skip_header = 1, autostrip = True)\n",
    "raw_data_np"
   ]
  },
  {
   "cell_type": "code",
   "execution_count": null,
   "id": "c4821c3f-8d06-47ec-9e2f-485361d08b4f",
   "metadata": {},
   "outputs": [],
   "source": [
    "## Checking for Incomplete Data"
   ]
  },
  {
   "cell_type": "code",
   "execution_count": null,
   "id": "b1b5245c-7902-41a2-8951-d2f61fdeb763",
   "metadata": {},
   "outputs": [],
   "source": [
    "np.isnan(raw_data_np).sum()"
   ]
  },
  {
   "cell_type": "code",
   "execution_count": null,
   "id": "c59d20b6-d3c1-476c-bf88-28f3dc307995",
   "metadata": {},
   "outputs": [],
   "source": [
    "temporary_fill = np.nanmax(raw_data_np) + 1\n",
    "temporary_mean = np.nanmean(raw_data_np, axis = 0)"
   ]
  },
  {
   "cell_type": "code",
   "execution_count": null,
   "id": "f2d23223-6179-43bc-b9c1-69c922e63f9d",
   "metadata": {},
   "outputs": [],
   "source": [
    "temporary_mean"
   ]
  },
  {
   "cell_type": "code",
   "execution_count": null,
   "id": "359cee14-e3c7-4300-9b0c-82bc86f0327d",
   "metadata": {},
   "outputs": [],
   "source": [
    "temporary_stats = np.array([np.nanmin(raw_data_np, axis = 0),\n",
    "                           temporary_mean,\n",
    "                           np.nanmax(raw_data_np, axis = 0)])"
   ]
  },
  {
   "cell_type": "code",
   "execution_count": null,
   "id": "b0b71077-438f-42b8-b3df-4a02e671d2ce",
   "metadata": {},
   "outputs": [],
   "source": [
    "temporary_stats"
   ]
  },
  {
   "cell_type": "code",
   "execution_count": null,
   "id": "3582a60b-fa4e-46d5-b984-85e4a04d6377",
   "metadata": {},
   "outputs": [],
   "source": [
    "## Splitting the Dataset"
   ]
  },
  {
   "cell_type": "code",
   "execution_count": null,
   "id": "b30617ba-476e-495f-9a6f-1ff9171622b7",
   "metadata": {},
   "outputs": [],
   "source": [
    "### Splitting the Columns"
   ]
  },
  {
   "cell_type": "code",
   "execution_count": null,
   "id": "44a5ae7c-f548-4779-90e7-c97727841626",
   "metadata": {},
   "outputs": [],
   "source": [
    "columns_strings = np.argwhere(np.isnan(temporary_mean)).squeeze()\n",
    "columns_strings"
   ]
  },
  {
   "cell_type": "code",
   "execution_count": null,
   "id": "d24fc7ef-e8c7-453a-8670-d4454e84067d",
   "metadata": {},
   "outputs": [],
   "source": [
    "columns_numeric = np.argwhere(np.isnan(temporary_mean) == False).squeeze()\n",
    "columns_numeric"
   ]
  },
  {
   "cell_type": "code",
   "execution_count": null,
   "id": "6c6e917a-5524-4c00-928c-79c7f4845380",
   "metadata": {},
   "outputs": [],
   "source": [
    "### Re-importing the Dataset"
   ]
  },
  {
   "cell_type": "code",
   "execution_count": null,
   "id": "9d65ccca-30ed-4c83-84b0-2f3276da6a56",
   "metadata": {},
   "outputs": [],
   "source": [
    "loan_data_strings = np.genfromtxt(\"loan-data.csv\",\n",
    "                                  delimiter = ';',\n",
    "                                  skip_header = 1,\n",
    "                                  autostrip = True, \n",
    "                                  usecols = columns_strings,\n",
    "                                  dtype = np.str)\n",
    "loan_data_strings"
   ]
  },
  {
   "cell_type": "code",
   "execution_count": null,
   "id": "13ea400a-886e-49b7-9c5d-f37c67333095",
   "metadata": {},
   "outputs": [],
   "source": [
    "loan_data_numeric = np.genfromtxt(\"loan-data.csv\",\n",
    "                                  delimiter = ';',\n",
    "                                  autostrip = True,\n",
    "                                  skip_header = 1,\n",
    "                                  usecols = columns_numeric,\n",
    "                                  filling_values = temporary_fill)\n",
    "loan_data_numeric"
   ]
  },
  {
   "cell_type": "code",
   "execution_count": null,
   "id": "3093f5d4-1114-40df-8f90-9332f3ac5a5f",
   "metadata": {},
   "outputs": [],
   "source": [
    "### The Names of the Columns"
   ]
  },
  {
   "cell_type": "code",
   "execution_count": null,
   "id": "33e31e7d-7811-4d89-8e89-4d12b051b6f5",
   "metadata": {},
   "outputs": [],
   "source": [
    "header_full = np.genfromtxt(\"loan-data.csv\",\n",
    "                            delimiter = ';',\n",
    "                            autostrip = True,\n",
    "                            skip_footer = raw_data_np.shape[0],\n",
    "                            dtype = np.str)\n",
    "header_full"
   ]
  },
  {
   "cell_type": "code",
   "execution_count": null,
   "id": "a2b20eef-61fb-4355-a88f-10e2131035dc",
   "metadata": {},
   "outputs": [],
   "source": [
    "header_strings, header_numeric = header_full[columns_strings], header_full[columns_numeric]"
   ]
  },
  {
   "cell_type": "code",
   "execution_count": null,
   "id": "9dd63c3a-120b-4444-bff7-9ab3ee0c9410",
   "metadata": {},
   "outputs": [],
   "source": [
    "header_strings"
   ]
  },
  {
   "cell_type": "code",
   "execution_count": null,
   "id": "5f29fa4f-fb63-479b-b204-9cec90141998",
   "metadata": {},
   "outputs": [],
   "source": [
    "header_numeric"
   ]
  },
  {
   "cell_type": "code",
   "execution_count": null,
   "id": "f29701f9-13a7-4c41-a4d9-081d84737154",
   "metadata": {},
   "outputs": [],
   "source": [
    "## Creating Checkpoints:"
   ]
  },
  {
   "cell_type": "code",
   "execution_count": null,
   "id": "5719f114-4c79-4626-a080-de865e395e6b",
   "metadata": {},
   "outputs": [],
   "source": [
    "def checkpoint(file_name, checkpoint_header, checkpoint_data):\n",
    "    np.savez(file_name, header = checkpoint_header, data = checkpoint_data)\n",
    "    checkpoint_variable = np.load(file_name + \".npz\")\n",
    "    return(checkpoint_variable)"
   ]
  },
  {
   "cell_type": "code",
   "execution_count": null,
   "id": "54a995fb-beff-40ca-9b37-e5b466d5b939",
   "metadata": {},
   "outputs": [],
   "source": [
    "checkpoint_test = checkpoint(\"checkpoint-test\", header_strings, loan_data_strings)"
   ]
  },
  {
   "cell_type": "code",
   "execution_count": null,
   "id": "6d9451d5-c524-4b0b-be5d-6ae1c81ca945",
   "metadata": {},
   "outputs": [],
   "source": [
    "checkpoint_test['data']"
   ]
  },
  {
   "cell_type": "code",
   "execution_count": null,
   "id": "49ed4905-fd9e-4e02-8b58-30772d6687a1",
   "metadata": {},
   "outputs": [],
   "source": [
    "np.array_equal(checkpoint_test['data'], loan_data_strings)"
   ]
  },
  {
   "cell_type": "code",
   "execution_count": null,
   "id": "b051e405-73b4-4de5-8c28-14f8afb0fff7",
   "metadata": {},
   "outputs": [],
   "source": [
    "## Manipulating String Columns"
   ]
  },
  {
   "cell_type": "code",
   "execution_count": null,
   "id": "4539d0f2-abc5-47f7-a4dc-1dd61b6a046e",
   "metadata": {},
   "outputs": [],
   "source": [
    "header_strings[0] = \"issue_date\""
   ]
  },
  {
   "cell_type": "code",
   "execution_count": null,
   "id": "643c10a3-e04d-4af8-a597-c02feeafea94",
   "metadata": {},
   "outputs": [],
   "source": [
    "loan_data_strings"
   ]
  },
  {
   "cell_type": "code",
   "execution_count": null,
   "id": "bdfd31c1-056c-4dc7-a6c2-b6f1bd31ef76",
   "metadata": {},
   "outputs": [],
   "source": [
    "### Issue Date"
   ]
  },
  {
   "cell_type": "code",
   "execution_count": null,
   "id": "c7f8c885-2f84-4df9-98af-a3e3384676df",
   "metadata": {},
   "outputs": [],
   "source": [
    "np.unique(loan_data_strings[:,0])"
   ]
  },
  {
   "cell_type": "code",
   "execution_count": null,
   "id": "5e7feb31-ab0b-4d94-9c01-7716e30b2ad3",
   "metadata": {},
   "outputs": [],
   "source": [
    "loan_data_strings[:,0] = np.chararray.strip(loan_data_strings[:,0], \"-15\")"
   ]
  },
  {
   "cell_type": "code",
   "execution_count": null,
   "id": "e53036fe-f2d5-47e5-95b3-cc77c7c4a17a",
   "metadata": {},
   "outputs": [],
   "source": [
    "np.unique(loan_data_strings[:,0])"
   ]
  },
  {
   "cell_type": "code",
   "execution_count": null,
   "id": "8a2c17ca-8b7b-4fd7-ac62-d2afddbb6f0e",
   "metadata": {},
   "outputs": [],
   "source": [
    "months = np.array(['', 'Jan', 'Feb', 'Mar', 'Apr', 'May', 'Jun', 'Jul', 'Aug', 'Sep', 'Oct', 'Nov', 'Dec'])"
   ]
  },
  {
   "cell_type": "code",
   "execution_count": null,
   "id": "0032117b-f2cb-4f69-a8d7-e23fa6b03566",
   "metadata": {},
   "outputs": [],
   "source": [
    "for i in range(13):\n",
    "        loan_data_strings[:,0] = np.where(loan_data_strings[:,0] == months[i],\n",
    "                                          i,\n",
    "                                          loan_data_strings[:,0])"
   ]
  },
  {
   "cell_type": "code",
   "execution_count": null,
   "id": "b88ea595-fc62-4878-8cb2-475dc966e680",
   "metadata": {},
   "outputs": [],
   "source": [
    "np.unique(loan_data_strings[:,0])"
   ]
  },
  {
   "cell_type": "code",
   "execution_count": null,
   "id": "0403afc4-366a-4d9d-8922-575b0f8a0cde",
   "metadata": {},
   "outputs": [],
   "source": [
    "### Loan Status"
   ]
  },
  {
   "cell_type": "code",
   "execution_count": null,
   "id": "d6e43b57-5fa8-424f-949e-65ae63fb2bee",
   "metadata": {},
   "outputs": [],
   "source": [
    "header_strings"
   ]
  },
  {
   "cell_type": "code",
   "execution_count": null,
   "id": "f662036b-9d3f-40fe-a72c-dbaf3f4243ef",
   "metadata": {},
   "outputs": [],
   "source": [
    "np.unique(loan_data_strings[:,1])"
   ]
  },
  {
   "cell_type": "code",
   "execution_count": null,
   "id": "ce8c91b9-361a-4580-a105-17111111a33a",
   "metadata": {},
   "outputs": [],
   "source": [
    "np.unique(loan_data_strings[:,1]).size"
   ]
  },
  {
   "cell_type": "code",
   "execution_count": null,
   "id": "55742ead-8527-4883-a828-6676665438e2",
   "metadata": {},
   "outputs": [],
   "source": [
    "status_bad = np.array(['','Charged Off','Default','Late (31-120 days)'])"
   ]
  },
  {
   "cell_type": "code",
   "execution_count": null,
   "id": "8c005020-f9bc-427d-bada-4d6a7a214eac",
   "metadata": {},
   "outputs": [],
   "source": [
    "loan_data_strings[:,1] = np.where(np.isin(loan_data_strings[:,1], status_bad),0,1)"
   ]
  },
  {
   "cell_type": "code",
   "execution_count": null,
   "id": "5c1b8fcb-741a-4145-a8cc-817e268d35cc",
   "metadata": {},
   "outputs": [],
   "source": [
    "np.unique(loan_data_strings[:,1])"
   ]
  },
  {
   "cell_type": "code",
   "execution_count": null,
   "id": "03411db3-3d0b-46a4-9906-ff94d34d55ec",
   "metadata": {},
   "outputs": [],
   "source": [
    "### Term"
   ]
  },
  {
   "cell_type": "code",
   "execution_count": null,
   "id": "7aff5bc5-13e7-49bc-a4c2-6d37ef7f9079",
   "metadata": {},
   "outputs": [],
   "source": [
    "header_strings"
   ]
  },
  {
   "cell_type": "code",
   "execution_count": null,
   "id": "ea4a2565-f9f2-4311-975e-9a66464f82bc",
   "metadata": {},
   "outputs": [],
   "source": [
    "np.unique(loan_data_strings[:,2])"
   ]
  },
  {
   "cell_type": "code",
   "execution_count": null,
   "id": "a82a131c-0bb6-4bdd-b5d8-13c7534012fc",
   "metadata": {},
   "outputs": [],
   "source": [
    "loan_data_strings[:,2] = np.chararray.strip(loan_data_strings[:,2], \" months\")\n",
    "loan_data_strings[:,2]"
   ]
  },
  {
   "cell_type": "code",
   "execution_count": null,
   "id": "05432ed8-e7a6-4a23-83ad-ad20f343d553",
   "metadata": {},
   "outputs": [],
   "source": [
    "header_strings[2] = \"term_months\""
   ]
  },
  {
   "cell_type": "code",
   "execution_count": null,
   "id": "bf23e154-8295-4261-b823-955d5527e925",
   "metadata": {},
   "outputs": [],
   "source": [
    "loan_data_strings[:,2] = np.where(loan_data_strings[:,2] == '', \n",
    "                                  '60', \n",
    "                                  loan_data_strings[:,2])\n",
    "loan_data_strings[:,2]"
   ]
  },
  {
   "cell_type": "code",
   "execution_count": null,
   "id": "2d032325-7ad4-44c9-8bda-65c4a24fe39b",
   "metadata": {},
   "outputs": [],
   "source": [
    "np.unique(loan_data_strings[:,2])"
   ]
  },
  {
   "cell_type": "code",
   "execution_count": null,
   "id": "b48d3c56-3688-405d-96b3-f79e7f5002a8",
   "metadata": {},
   "outputs": [],
   "source": [
    "### Grade and Subgrade"
   ]
  },
  {
   "cell_type": "code",
   "execution_count": null,
   "id": "90d8b9f0-7af7-4654-8753-3286c915f5a6",
   "metadata": {},
   "outputs": [],
   "source": [
    "header_strings"
   ]
  },
  {
   "cell_type": "code",
   "execution_count": null,
   "id": "21982002-da5e-456b-8fd0-d27ff1f91098",
   "metadata": {},
   "outputs": [],
   "source": [
    "np.unique(loan_data_strings[:,3])"
   ]
  },
  {
   "cell_type": "code",
   "execution_count": null,
   "id": "14ac2436-d8dc-4871-b992-37fce4bb6119",
   "metadata": {},
   "outputs": [],
   "source": [
    "np.unique(loan_data_strings[:,4])"
   ]
  },
  {
   "cell_type": "code",
   "execution_count": null,
   "id": "a969c440-656a-4c86-87ca-850523dcffa0",
   "metadata": {},
   "outputs": [],
   "source": [
    "#### Filling Sub Grade"
   ]
  },
  {
   "cell_type": "code",
   "execution_count": null,
   "id": "97b6c9c1-d09d-4dd3-94cd-ad2c952b28c5",
   "metadata": {},
   "outputs": [],
   "source": [
    "for i in np.unique(loan_data_strings[:,3])[1:]:\n",
    "    loan_data_strings[:,4] = np.where((loan_data_strings[:,4] == '') & (loan_data_strings[:,3] == i),\n",
    "                                      i + '5',\n",
    "                                      loan_data_strings[:,4])"
   ]
  },
  {
   "cell_type": "code",
   "execution_count": null,
   "id": "b70047ea-bbd9-4ed2-82b9-1e2cf9012814",
   "metadata": {},
   "outputs": [],
   "source": [
    "np.unique(loan_data_strings[:,4], return_counts = True)"
   ]
  },
  {
   "cell_type": "code",
   "execution_count": null,
   "id": "989a5759-5583-49a4-92dc-00e828f50aab",
   "metadata": {},
   "outputs": [],
   "source": [
    "loan_data_strings[:,4] = np.where(loan_data_strings[:,4] == '',\n",
    "                                  'H1',\n",
    "                                  loan_data_strings[:,4])"
   ]
  },
  {
   "cell_type": "code",
   "execution_count": null,
   "id": "9a05cbf9-86c5-4e9a-99fe-c2f403ab15c8",
   "metadata": {},
   "outputs": [],
   "source": [
    "np.unique(loan_data_strings[:,4])"
   ]
  },
  {
   "cell_type": "code",
   "execution_count": null,
   "id": "0de30b2a-be00-410e-8d34-2e4845e546ae",
   "metadata": {},
   "outputs": [],
   "source": [
    "#### Removing Grade"
   ]
  },
  {
   "cell_type": "code",
   "execution_count": null,
   "id": "2271dbcd-fed8-407a-aed4-87f704b5d7a7",
   "metadata": {},
   "outputs": [],
   "source": [
    "loan_data_strings = np.delete(loan_data_strings, 3, axis = 1)"
   ]
  },
  {
   "cell_type": "code",
   "execution_count": null,
   "id": "17494cf7-3a64-4221-93ea-075971eefdfb",
   "metadata": {},
   "outputs": [],
   "source": [
    "loan_data_strings[:,3]"
   ]
  },
  {
   "cell_type": "code",
   "execution_count": null,
   "id": "38d760bd-b4c6-4c6f-a2f5-356584c735d2",
   "metadata": {},
   "outputs": [],
   "source": [
    "header_strings = np.delete(header_strings, 3)"
   ]
  },
  {
   "cell_type": "code",
   "execution_count": null,
   "id": "b8be18d9-5bd4-4cfb-9dc7-a230b630cfcc",
   "metadata": {},
   "outputs": [],
   "source": [
    "header_strings[3]"
   ]
  },
  {
   "cell_type": "code",
   "execution_count": null,
   "id": "135d9861-fa07-4085-a88c-8b07701df9ad",
   "metadata": {},
   "outputs": [],
   "source": [
    "#### Converting Sub Grade"
   ]
  },
  {
   "cell_type": "code",
   "execution_count": null,
   "id": "f91a6355-4f7c-4b5c-ad6f-8b9ba31cff12",
   "metadata": {},
   "outputs": [],
   "source": [
    "np.unique(loan_data_strings[:,3])"
   ]
  },
  {
   "cell_type": "code",
   "execution_count": null,
   "id": "1d4df722-220c-4e69-b2a2-bad7f17e1cac",
   "metadata": {},
   "outputs": [],
   "source": [
    "keys = list(np.unique(loan_data_strings[:,3]))                         \n",
    "values = list(range(1, np.unique(loan_data_strings[:,3]).shape[0] + 1)) \n",
    "dict_sub_grade = dict(zip(keys, values))"
   ]
  },
  {
   "cell_type": "code",
   "execution_count": null,
   "id": "2a43445b-6c07-4f9b-a89a-fe6831dca2a2",
   "metadata": {},
   "outputs": [],
   "source": [
    "dict_sub_grade"
   ]
  },
  {
   "cell_type": "code",
   "execution_count": null,
   "id": "93f846e4-122b-4275-9d6d-3a632fe00f70",
   "metadata": {},
   "outputs": [],
   "source": [
    "for i in np.unique(loan_data_strings[:,3]):\n",
    "        loan_data_strings[:,3] = np.where(loan_data_strings[:,3] == i, \n",
    "                                          dict_sub_grade[i],\n",
    "                                          loan_data_strings[:,3])"
   ]
  },
  {
   "cell_type": "code",
   "execution_count": null,
   "id": "4d5e3435-e22f-4d2f-a297-88b14e051758",
   "metadata": {},
   "outputs": [],
   "source": [
    "np.unique(loan_data_strings[:,3])"
   ]
  },
  {
   "cell_type": "code",
   "execution_count": null,
   "id": "c7fe6d3e-32b7-4709-bd93-043d909c6f11",
   "metadata": {},
   "outputs": [],
   "source": [
    "### Verification Status"
   ]
  },
  {
   "cell_type": "code",
   "execution_count": null,
   "id": "ee73d208-f08a-4dd0-b58e-a8f597a0fcc9",
   "metadata": {},
   "outputs": [],
   "source": [
    "header_strings"
   ]
  },
  {
   "cell_type": "code",
   "execution_count": null,
   "id": "ceaac7ea-5b88-454e-bde9-292d7d1ab471",
   "metadata": {},
   "outputs": [],
   "source": [
    "np.unique(loan_data_strings[:,4])"
   ]
  },
  {
   "cell_type": "code",
   "execution_count": null,
   "id": "26dd7cac-6ab1-42b3-8405-4ecd793d3e78",
   "metadata": {},
   "outputs": [],
   "source": [
    "loan_data_strings[:,4] = np.where((loan_data_strings[:,4] == '') | (loan_data_strings[:,4] == 'Not Verified'), 0, 1)"
   ]
  },
  {
   "cell_type": "code",
   "execution_count": null,
   "id": "d9d3a5f8-f7cb-4c0d-b312-f47afa7721b9",
   "metadata": {},
   "outputs": [],
   "source": [
    "np.unique(loan_data_strings[:,4])"
   ]
  },
  {
   "cell_type": "code",
   "execution_count": null,
   "id": "8589a26f-fbce-4494-9c9d-ce2660eb7c12",
   "metadata": {},
   "outputs": [],
   "source": [
    "### URL"
   ]
  },
  {
   "cell_type": "code",
   "execution_count": null,
   "id": "6da032d1-b339-4a6b-912f-825a5f1add8c",
   "metadata": {},
   "outputs": [],
   "source": [
    "loan_data_strings[:,5]"
   ]
  },
  {
   "cell_type": "code",
   "execution_count": null,
   "id": "e2637a29-386a-486a-a1c8-2853cc44bf14",
   "metadata": {},
   "outputs": [],
   "source": [
    "np.chararray.strip(loan_data_strings[:,5], \"https://www.lendingclub.com/browse/loanDetail.action?loan_id=\")"
   ]
  },
  {
   "cell_type": "code",
   "execution_count": null,
   "id": "294fb006-a771-4798-bcd9-10169be22dca",
   "metadata": {},
   "outputs": [],
   "source": [
    "loan_data_strings[:,5] = np.chararray.strip(loan_data_strings[:,5], \"https://www.lendingclub.com/browse/loanDetail.action?loan_id=\")"
   ]
  },
  {
   "cell_type": "code",
   "execution_count": null,
   "id": "df9e62d4-b299-416d-941c-ab2291991d41",
   "metadata": {},
   "outputs": [],
   "source": [
    "header_full"
   ]
  },
  {
   "cell_type": "code",
   "execution_count": null,
   "id": "ed0dafc6-f788-4289-8a85-88e5d0db6071",
   "metadata": {},
   "outputs": [],
   "source": [
    "loan_data_numeric[:,0].astype(dtype = np.int32)"
   ]
  },
  {
   "cell_type": "code",
   "execution_count": null,
   "id": "96171ade-5aea-4686-a833-6311450f96d5",
   "metadata": {},
   "outputs": [],
   "source": [
    "loan_data_strings[:,5].astype(dtype = np.int32)"
   ]
  },
  {
   "cell_type": "code",
   "execution_count": null,
   "id": "8280926b-8468-4daa-87ac-fb7730c079b6",
   "metadata": {},
   "outputs": [],
   "source": [
    "np.array_equal(loan_data_numeric[:,0].astype(dtype = np.int32), loan_data_strings[:,5].astype(dtype = np.int32))"
   ]
  },
  {
   "cell_type": "code",
   "execution_count": null,
   "id": "f7cd9e74-39db-4119-879c-679c88a71096",
   "metadata": {},
   "outputs": [],
   "source": [
    "loan_data_strings = np.delete(loan_data_strings, 5, axis = 1)\n",
    "header_strings = np.delete(header_strings, 5)"
   ]
  },
  {
   "cell_type": "code",
   "execution_count": null,
   "id": "ac200dc1-1a3f-42f1-b2e1-4b095a70f64b",
   "metadata": {},
   "outputs": [],
   "source": [
    "loan_data_strings[:,5]"
   ]
  },
  {
   "cell_type": "code",
   "execution_count": null,
   "id": "1a59153f-7289-4250-8dbb-ba3970af2ada",
   "metadata": {},
   "outputs": [],
   "source": [
    "header_strings"
   ]
  },
  {
   "cell_type": "code",
   "execution_count": null,
   "id": "ad2baad4-0f80-4d71-91f8-02842711a716",
   "metadata": {},
   "outputs": [],
   "source": [
    "loan_data_numeric[:,0]"
   ]
  },
  {
   "cell_type": "code",
   "execution_count": null,
   "id": "2d53d109-52f6-49b3-b01f-86454d6b82dc",
   "metadata": {},
   "outputs": [],
   "source": [
    "header_numeric"
   ]
  },
  {
   "cell_type": "code",
   "execution_count": null,
   "id": "fd452a46-949a-495c-84c1-3819efc9d054",
   "metadata": {},
   "outputs": [],
   "source": [
    "### State Address"
   ]
  },
  {
   "cell_type": "code",
   "execution_count": null,
   "id": "64b58b79-1bc9-4f09-9e2d-73348d3e519f",
   "metadata": {},
   "outputs": [],
   "source": [
    "header_strings"
   ]
  },
  {
   "cell_type": "code",
   "execution_count": null,
   "id": "346c4cec-8588-4151-9765-69d9486bd866",
   "metadata": {},
   "outputs": [],
   "source": [
    "header_strings[5] = \"state_address\""
   ]
  },
  {
   "cell_type": "code",
   "execution_count": null,
   "id": "22213258-24fa-425e-ba1d-68d8baf244aa",
   "metadata": {},
   "outputs": [],
   "source": [
    "states_names, states_count = np.unique(loan_data_strings[:,5], return_counts = True)\n",
    "states_count_sorted = np.argsort(-states_count)\n",
    "states_names[states_count_sorted], states_count[states_count_sorted]"
   ]
  },
  {
   "cell_type": "code",
   "execution_count": null,
   "id": "39f5cae6-7c90-4f97-88d3-5da7eddc907f",
   "metadata": {},
   "outputs": [],
   "source": [
    "loan_data_strings[:,5] = np.where(loan_data_strings[:,5] == '', \n",
    "                                  0, \n",
    "                                  loan_data_strings[:,5])"
   ]
  },
  {
   "cell_type": "code",
   "execution_count": null,
   "id": "2da0ff48-bb31-479c-81dd-8cdc74351b02",
   "metadata": {},
   "outputs": [],
   "source": [
    "states_west = np.array(['WA', 'OR','CA','NV','ID','MT', 'WY','UT','CO', 'AZ','NM','HI','AK'])\n",
    "states_south = np.array(['TX','OK','AR','LA','MS','AL','TN','KY','FL','GA','SC','NC','VA','WV','MD','DE','DC'])\n",
    "states_midwest = np.array(['ND','SD','NE','KS','MN','IA','MO','WI','IL','IN','MI','OH'])\n",
    "states_east = np.array(['PA','NY','NJ','CT','MA','VT','NH','ME','RI'])"
   ]
  },
  {
   "cell_type": "code",
   "execution_count": null,
   "id": "55f6b418-135f-479d-8d74-ea30f7ccdbec",
   "metadata": {},
   "outputs": [],
   "source": [
    "https://www2.census.gov/geo/pdfs/maps-data/maps/reference/us_regdiv.pdf"
   ]
  },
  {
   "cell_type": "code",
   "execution_count": null,
   "id": "654eb77a-65ae-41ff-9bb6-14c4e6bf0e83",
   "metadata": {},
   "outputs": [],
   "source": [
    "loan_data_strings[:,5] = np.where(np.isin(loan_data_strings[:,5], states_west), 1, loan_data_strings[:,5])\n",
    "loan_data_strings[:,5] = np.where(np.isin(loan_data_strings[:,5], states_south), 2, loan_data_strings[:,5])\n",
    "loan_data_strings[:,5] = np.where(np.isin(loan_data_strings[:,5], states_midwest), 3, loan_data_strings[:,5])\n",
    "loan_data_strings[:,5] = np.where(np.isin(loan_data_strings[:,5], states_east), 4, loan_data_strings[:,5])"
   ]
  },
  {
   "cell_type": "code",
   "execution_count": null,
   "id": "bfb62f21-993c-4527-ae51-8e6e94b965c4",
   "metadata": {},
   "outputs": [],
   "source": [
    "np.unique(loan_data_strings[:,5])"
   ]
  },
  {
   "cell_type": "code",
   "execution_count": null,
   "id": "4b051002-2bd8-4565-8bf9-25d8bfd6f918",
   "metadata": {},
   "outputs": [],
   "source": [
    "## Converting to Numbers"
   ]
  },
  {
   "cell_type": "code",
   "execution_count": null,
   "id": "fd959a2d-08fd-465c-9252-55c59da31aeb",
   "metadata": {},
   "outputs": [],
   "source": [
    "loan_data_strings"
   ]
  },
  {
   "cell_type": "code",
   "execution_count": null,
   "id": "6e763367-6593-4406-9878-acb4c697cc88",
   "metadata": {},
   "outputs": [],
   "source": [
    "loan_data_strings = loan_data_strings.astype(np.int)"
   ]
  },
  {
   "cell_type": "code",
   "execution_count": null,
   "id": "192e423f-0a71-4045-bfcb-e8131a179ff6",
   "metadata": {},
   "outputs": [],
   "source": [
    "loan_data_strings"
   ]
  },
  {
   "cell_type": "code",
   "execution_count": null,
   "id": "dbd5d592-a756-43db-b034-a4fa820bc010",
   "metadata": {},
   "outputs": [],
   "source": [
    "### Checkpoint 1: Strings"
   ]
  },
  {
   "cell_type": "code",
   "execution_count": null,
   "id": "71c528dd-7d57-492f-8b3b-770135c2c55e",
   "metadata": {},
   "outputs": [],
   "source": [
    "checkpoint_strings = checkpoint(\"Checkpoint-Strings\", header_strings, loan_data_strings)"
   ]
  },
  {
   "cell_type": "code",
   "execution_count": null,
   "id": "d1260ef1-3738-4380-90ce-96ea3dbbe4cc",
   "metadata": {},
   "outputs": [],
   "source": [
    "checkpoint_strings[\"header\"]"
   ]
  },
  {
   "cell_type": "code",
   "execution_count": null,
   "id": "4be34c61-b441-45c3-b9b5-e952dde5e6b8",
   "metadata": {},
   "outputs": [],
   "source": [
    "checkpoint_strings[\"data\"]"
   ]
  },
  {
   "cell_type": "code",
   "execution_count": null,
   "id": "55efb906-9baa-42bf-a3b6-837d00acd705",
   "metadata": {},
   "outputs": [],
   "source": [
    "np.array_equal(checkpoint_strings['data'], loan_data_strings)"
   ]
  },
  {
   "cell_type": "code",
   "execution_count": null,
   "id": "e22ae379-7184-4b84-900d-15f22de00633",
   "metadata": {},
   "outputs": [],
   "source": [
    "## Manipulating Numeric Columns"
   ]
  },
  {
   "cell_type": "code",
   "execution_count": null,
   "id": "c1e4e4c9-e581-42fd-860d-38ffcd11fd7e",
   "metadata": {},
   "outputs": [],
   "source": [
    "loan_data_numeric"
   ]
  },
  {
   "cell_type": "code",
   "execution_count": null,
   "id": "1dc49c37-7cc2-470f-8925-09c208154ce0",
   "metadata": {},
   "outputs": [],
   "source": [
    "np.isnan(loan_data_numeric).sum()"
   ]
  },
  {
   "cell_type": "code",
   "execution_count": null,
   "id": "1082bdb5-8154-4927-bc8f-d40436279e2f",
   "metadata": {},
   "outputs": [],
   "source": [
    "### Substitute \"Filler\" Values"
   ]
  },
  {
   "cell_type": "code",
   "execution_count": null,
   "id": "57deb1e9-5a5f-4d7e-ab73-e2b474b2aa8c",
   "metadata": {},
   "outputs": [],
   "source": [
    "header_numeric"
   ]
  },
  {
   "cell_type": "code",
   "execution_count": null,
   "id": "d1e2194b-2bef-4192-8d8d-8b3fe4ba6a3a",
   "metadata": {},
   "outputs": [],
   "source": [
    "#### ID"
   ]
  },
  {
   "cell_type": "code",
   "execution_count": null,
   "id": "b00832a1-788d-48eb-869a-e329bffb3c81",
   "metadata": {},
   "outputs": [],
   "source": [
    "temporary_fill"
   ]
  },
  {
   "cell_type": "code",
   "execution_count": null,
   "id": "445a4c78-cc02-424e-ba78-3a1e965083a4",
   "metadata": {},
   "outputs": [],
   "source": [
    "np.isin(loan_data_numeric[:,0], temporary_fill)"
   ]
  },
  {
   "cell_type": "code",
   "execution_count": null,
   "id": "8564eedf-af4f-4b84-b282-94f0f3bfb8eb",
   "metadata": {},
   "outputs": [],
   "source": [
    "np.isin(loan_data_numeric[:,0], temporary_fill).sum()"
   ]
  },
  {
   "cell_type": "code",
   "execution_count": null,
   "id": "30887300-5483-4215-9b02-02722339e818",
   "metadata": {},
   "outputs": [],
   "source": [
    "header_numeric"
   ]
  },
  {
   "cell_type": "code",
   "execution_count": null,
   "id": "4539fce3-a1bb-42e6-99ca-76dcc538f05e",
   "metadata": {},
   "outputs": [],
   "source": [
    "#### Temporary Stats"
   ]
  },
  {
   "cell_type": "code",
   "execution_count": null,
   "id": "54e30307-39c7-4d56-a7a7-2d2867b4e276",
   "metadata": {},
   "outputs": [],
   "source": [
    "temporary_stats[:, columns_numeric]"
   ]
  },
  {
   "cell_type": "code",
   "execution_count": null,
   "id": "789de60f-1ca3-4d8e-bfcf-68edf5ba6fe2",
   "metadata": {},
   "outputs": [],
   "source": [
    "#### Funded Amount"
   ]
  },
  {
   "cell_type": "code",
   "execution_count": null,
   "id": "7ecb84cb-16fb-4f31-90fb-f61d987179fa",
   "metadata": {},
   "outputs": [],
   "source": [
    "loan_data_numeric[:,2]"
   ]
  },
  {
   "cell_type": "code",
   "execution_count": null,
   "id": "6ef7e1cc-32ce-44ce-a6cb-15a0398425e1",
   "metadata": {},
   "outputs": [],
   "source": [
    "loan_data_numeric[:,2] = np.where(loan_data_numeric[:,2] == temporary_fill, \n",
    "                                  temporary_stats[0, columns_numeric[2]],\n",
    "                                  loan_data_numeric[:,2])\n",
    "loan_data_numeric[:,2]"
   ]
  },
  {
   "cell_type": "code",
   "execution_count": null,
   "id": "485bf533-bb63-4e75-bce5-123a94560d81",
   "metadata": {},
   "outputs": [],
   "source": [
    "temporary_stats[0,columns_numeric[3]]"
   ]
  },
  {
   "cell_type": "code",
   "execution_count": null,
   "id": "54675a8c-c02a-48cb-a663-3788d368b231",
   "metadata": {},
   "outputs": [],
   "source": [
    "#### Loaned Amount, Interest Rate, Total Payment, Installment"
   ]
  },
  {
   "cell_type": "code",
   "execution_count": null,
   "id": "bceb0c29-5ab6-452d-891a-3a1da5f3bc62",
   "metadata": {},
   "outputs": [],
   "source": [
    "header_numeric"
   ]
  },
  {
   "cell_type": "code",
   "execution_count": null,
   "id": "03773de6-0e4a-4cd0-9932-752bb1228de6",
   "metadata": {},
   "outputs": [],
   "source": [
    "for i in [1,3,4,5]:\n",
    "    loan_data_numeric[:,i] = np.where(loan_data_numeric[:,i] == temporary_fill,\n",
    "                                      temporary_stats[2, columns_numeric[i]],\n",
    "                                      loan_data_numeric[:,i])"
   ]
  },
  {
   "cell_type": "code",
   "execution_count": null,
   "id": "222a0ec8-8a29-4fbb-bbbf-d1f8da14235a",
   "metadata": {},
   "outputs": [],
   "source": [
    "loan_data_numeric"
   ]
  },
  {
   "cell_type": "code",
   "execution_count": null,
   "id": "2b139a50-6560-494a-ae72-bb4a744ca644",
   "metadata": {},
   "outputs": [],
   "source": [
    "### Currency Change"
   ]
  },
  {
   "cell_type": "code",
   "execution_count": null,
   "id": "9b636ecd-60fd-4285-a85c-41d9ee9734d5",
   "metadata": {},
   "outputs": [],
   "source": [
    "#### The Exchange Rate"
   ]
  },
  {
   "cell_type": "code",
   "execution_count": null,
   "id": "85ecbdd8-b5a7-4bc2-8d12-ad87e90c3a56",
   "metadata": {},
   "outputs": [],
   "source": [
    "EUR_USD = np.genfromtxt(\"EUR-USD.csv\", delimiter = ',', autostrip = True, skip_header = 1, usecols = 3)\n",
    "EUR_USD"
   ]
  },
  {
   "cell_type": "code",
   "execution_count": null,
   "id": "fba098a8-62e1-4f69-abd0-4beafd7d53c3",
   "metadata": {},
   "outputs": [],
   "source": [
    "loan_data_strings[:,0]"
   ]
  },
  {
   "cell_type": "code",
   "execution_count": null,
   "id": "4a1dccc2-9b6a-44a4-89e4-f3169050377c",
   "metadata": {},
   "outputs": [],
   "source": [
    "exchange_rate = loan_data_strings[:,0]\n",
    "\n",
    "for i in range(1,13):\n",
    "    exchange_rate = np.where(exchange_rate == i,\n",
    "                             EUR_USD[i-1],\n",
    "                             exchange_rate)    \n",
    "\n",
    "exchange_rate = np.where(exchange_rate == 0,\n",
    "                         np.mean(EUR_USD),\n",
    "                         exchange_rate)\n",
    "\n",
    "exchange_rate"
   ]
  },
  {
   "cell_type": "code",
   "execution_count": null,
   "id": "479c08c8-9fa3-470c-86c7-064494dce697",
   "metadata": {},
   "outputs": [],
   "source": [
    "exchange_rate.shape"
   ]
  },
  {
   "cell_type": "code",
   "execution_count": null,
   "id": "044af0fe-da6a-43db-85b5-ecf3824a7bfd",
   "metadata": {},
   "outputs": [],
   "source": [
    "loan_data_numeric.shape"
   ]
  },
  {
   "cell_type": "code",
   "execution_count": null,
   "id": "52a357ba-f8f2-4f0e-83a0-be640e019d35",
   "metadata": {},
   "outputs": [],
   "source": [
    "exchange_rate = np.reshape(exchange_rate, (10000,1))"
   ]
  },
  {
   "cell_type": "code",
   "execution_count": null,
   "id": "937cf077-597b-4509-8a41-1119b8596331",
   "metadata": {},
   "outputs": [],
   "source": [
    "loan_data_numeric = np.hstack((loan_data_numeric, exchange_rate))"
   ]
  },
  {
   "cell_type": "code",
   "execution_count": null,
   "id": "74f1e265-5e83-40e6-b476-68d18065c7d7",
   "metadata": {},
   "outputs": [],
   "source": [
    "header_numeric = np.concatenate((header_numeric, np.array(['exchange_rate'])))\n",
    "header_numeric"
   ]
  },
  {
   "cell_type": "code",
   "execution_count": null,
   "id": "3f692cd7-fdde-494d-a260-ecc1fd41eb44",
   "metadata": {},
   "outputs": [],
   "source": [
    "#### From USD to EUR"
   ]
  },
  {
   "cell_type": "code",
   "execution_count": null,
   "id": "d33a5dfb-5114-4872-89ea-5242ecfbd03b",
   "metadata": {},
   "outputs": [],
   "source": [
    "header_numeric"
   ]
  },
  {
   "cell_type": "code",
   "execution_count": null,
   "id": "7bb9e261-ebbb-4fa5-8c7a-e45381b8e768",
   "metadata": {},
   "outputs": [],
   "source": [
    "columns_dollar = np.array([1,2,4,5])"
   ]
  },
  {
   "cell_type": "code",
   "execution_count": null,
   "id": "596adc38-202f-45d9-93d6-d3245a3f6aeb",
   "metadata": {},
   "outputs": [],
   "source": [
    "loan_data_numeric[:,6]"
   ]
  },
  {
   "cell_type": "code",
   "execution_count": null,
   "id": "68b5fa0a-db84-45af-8d39-f0be8f151a30",
   "metadata": {},
   "outputs": [],
   "source": [
    "for i in columns_dollar:\n",
    "    loan_data_numeric = np.hstack((loan_data_numeric, np.reshape(loan_data_numeric[:,i] / loan_data_numeric[:,6], (10000,1))))"
   ]
  },
  {
   "cell_type": "code",
   "execution_count": null,
   "id": "3235e6dc-4b7c-4580-a2c1-13a0812cd50b",
   "metadata": {},
   "outputs": [],
   "source": [
    "loan_data_numeric.shape"
   ]
  },
  {
   "cell_type": "code",
   "execution_count": null,
   "id": "d9a06424-649e-4a25-b71d-0e50620086d9",
   "metadata": {},
   "outputs": [],
   "source": [
    "loan_data_numeric"
   ]
  },
  {
   "cell_type": "code",
   "execution_count": null,
   "id": "96a371d1-edff-4dbf-834e-bf65a93651bb",
   "metadata": {},
   "outputs": [],
   "source": [
    "#### Expanding the header"
   ]
  },
  {
   "cell_type": "code",
   "execution_count": null,
   "id": "d443a270-c2d5-4696-9147-f2fc344c32f9",
   "metadata": {},
   "outputs": [],
   "source": [
    "header_additional = np.array([column_name + '_EUR' for column_name in header_numeric[columns_dollar]])"
   ]
  },
  {
   "cell_type": "code",
   "execution_count": null,
   "id": "3c77d166-3380-4c90-8a60-2b3d1a57f630",
   "metadata": {},
   "outputs": [],
   "source": [
    "header_additional"
   ]
  },
  {
   "cell_type": "code",
   "execution_count": null,
   "id": "2f0bb3ba-e87d-4a9c-9976-eab0b2be1e6f",
   "metadata": {},
   "outputs": [],
   "source": [
    "header_numeric = np.concatenate((header_numeric, header_additional))"
   ]
  },
  {
   "cell_type": "code",
   "execution_count": null,
   "id": "1f0ddf15-6169-4904-b208-191dcd80ab8e",
   "metadata": {},
   "outputs": [],
   "source": [
    "header_numeric"
   ]
  },
  {
   "cell_type": "code",
   "execution_count": null,
   "id": "69cc16c8-1463-4a16-a970-95b7345b975f",
   "metadata": {},
   "outputs": [],
   "source": [
    "header_numeric[columns_dollar] = np.array([column_name + '_USD' for column_name in header_numeric[columns_dollar]])"
   ]
  },
  {
   "cell_type": "code",
   "execution_count": null,
   "id": "c8ca85c4-8950-487c-a3ad-cfa34bf1e356",
   "metadata": {},
   "outputs": [],
   "source": [
    "header_numeric"
   ]
  },
  {
   "cell_type": "code",
   "execution_count": null,
   "id": "59be4260-88f5-4de7-aa11-a7f63cf1ceb7",
   "metadata": {},
   "outputs": [],
   "source": [
    "columns_index_order = [0,1,7,2,8,3,4,9,5,10,6]"
   ]
  },
  {
   "cell_type": "code",
   "execution_count": null,
   "id": "732cd2cd-8cc6-4a89-96c1-04ff8ec51d58",
   "metadata": {},
   "outputs": [],
   "source": [
    "header_numeric = header_numeric[columns_index_order]"
   ]
  },
  {
   "cell_type": "code",
   "execution_count": null,
   "id": "75b0422e-f911-4bd3-ade9-f6bb36320207",
   "metadata": {},
   "outputs": [],
   "source": [
    "loan_data_numeric"
   ]
  },
  {
   "cell_type": "code",
   "execution_count": null,
   "id": "6d21d7d3-cabd-4f37-9653-d28ec5be6791",
   "metadata": {},
   "outputs": [],
   "source": [
    "loan_data_numeric = loan_data_numeric[:,columns_index_order]"
   ]
  },
  {
   "cell_type": "code",
   "execution_count": null,
   "id": "f0b57c5d-5ee9-4a98-9552-84124f894c21",
   "metadata": {},
   "outputs": [],
   "source": [
    "### Interest Rate"
   ]
  },
  {
   "cell_type": "code",
   "execution_count": null,
   "id": "f29577c1-9332-4265-949e-a2508e77a83f",
   "metadata": {},
   "outputs": [],
   "source": [
    "header_numeric"
   ]
  },
  {
   "cell_type": "code",
   "execution_count": null,
   "id": "7028ed41-f939-4924-ab2c-93037a244f8b",
   "metadata": {},
   "outputs": [],
   "source": [
    "loan_data_numeric[:,5]"
   ]
  },
  {
   "cell_type": "code",
   "execution_count": null,
   "id": "bb2540f9-9bcf-4f89-b75b-734004066866",
   "metadata": {},
   "outputs": [],
   "source": [
    "loan_data_numeric[:,5] = loan_data_numeric[:,5]/100"
   ]
  },
  {
   "cell_type": "code",
   "execution_count": null,
   "id": "7b6cbb52-670d-49b1-be1b-9d22a25ca976",
   "metadata": {},
   "outputs": [],
   "source": [
    "loan_data_numeric[:,5]"
   ]
  },
  {
   "cell_type": "code",
   "execution_count": null,
   "id": "86648b91-ff24-4dd6-971f-3d695466d5f7",
   "metadata": {},
   "outputs": [],
   "source": [
    "### Checkpoint 2: Numeric"
   ]
  },
  {
   "cell_type": "code",
   "execution_count": null,
   "id": "8f85198f-0bbb-4137-ae74-163e26a2b4bd",
   "metadata": {},
   "outputs": [],
   "source": [
    "checkpoint_numeric = checkpoint(\"Checkpoint-Numeric\", header_numeric, loan_data_numeric)"
   ]
  },
  {
   "cell_type": "code",
   "execution_count": null,
   "id": "4cedc598-f78b-434b-871e-bd4082d5c90d",
   "metadata": {},
   "outputs": [],
   "source": [
    "checkpoint_numeric['header'], checkpoint_numeric['data']"
   ]
  },
  {
   "cell_type": "code",
   "execution_count": null,
   "id": "ee19f81e-652e-4b41-8ba5-8ed9b577eaf8",
   "metadata": {},
   "outputs": [],
   "source": [
    "## Creating the \"Complete\" Dataset"
   ]
  },
  {
   "cell_type": "code",
   "execution_count": null,
   "id": "37f7d537-6bfc-443b-bce0-b5fb0bc78433",
   "metadata": {},
   "outputs": [],
   "source": [
    "checkpoint_strings['data'].shape"
   ]
  },
  {
   "cell_type": "code",
   "execution_count": null,
   "id": "4800801c-23d2-4c9f-9797-076571986739",
   "metadata": {},
   "outputs": [],
   "source": [
    "checkpoint_numeric['data'].shape"
   ]
  },
  {
   "cell_type": "code",
   "execution_count": null,
   "id": "14561f49-e41b-454a-ae44-8fe19bd05f8c",
   "metadata": {},
   "outputs": [],
   "source": [
    "loan_data = np.hstack((checkpoint_numeric['data'], checkpoint_strings['data']))"
   ]
  },
  {
   "cell_type": "code",
   "execution_count": null,
   "id": "c9cdf3d7-6fb6-4e2a-a3d6-bb130168237d",
   "metadata": {},
   "outputs": [],
   "source": [
    "loan_data"
   ]
  },
  {
   "cell_type": "code",
   "execution_count": null,
   "id": "05ff341a-1c5d-42a3-96e1-ee36a7f8b37e",
   "metadata": {},
   "outputs": [],
   "source": [
    "np.isnan(loan_data).sum()"
   ]
  },
  {
   "cell_type": "code",
   "execution_count": null,
   "id": "4e13173b-a992-4a37-9529-f7f387ba6599",
   "metadata": {},
   "outputs": [],
   "source": [
    "header_full = np.concatenate((checkpoint_numeric['header'], checkpoint_strings['header']))"
   ]
  },
  {
   "cell_type": "code",
   "execution_count": null,
   "id": "878e4fd3-8930-4340-aabb-295434224a9e",
   "metadata": {},
   "outputs": [],
   "source": [
    "## Sorting the New Dataset"
   ]
  },
  {
   "cell_type": "code",
   "execution_count": null,
   "id": "84e955c5-6008-4977-8aa6-d8e0f2eab5e1",
   "metadata": {},
   "outputs": [],
   "source": [
    "loan_data = loan_data[np.argsort(loan_data[:,0])]"
   ]
  },
  {
   "cell_type": "code",
   "execution_count": null,
   "id": "88eccd80-7997-459e-8168-70d3f44c06b1",
   "metadata": {},
   "outputs": [],
   "source": [
    "loan_data"
   ]
  },
  {
   "cell_type": "code",
   "execution_count": null,
   "id": "ebc5c7b2-650d-4227-9da3-e480364de6e2",
   "metadata": {},
   "outputs": [],
   "source": [
    "np.argsort(loan_data[:,0])"
   ]
  },
  {
   "cell_type": "code",
   "execution_count": null,
   "id": "169760ca-b433-4ed8-8d4e-9723ff74e14d",
   "metadata": {},
   "outputs": [],
   "source": [
    "## Storing the New Dataset"
   ]
  },
  {
   "cell_type": "code",
   "execution_count": null,
   "id": "a73f2740-8f2e-4b93-963f-9ba57eef7e1a",
   "metadata": {},
   "outputs": [],
   "source": [
    "loan_data = np.vstack((header_full, loan_data))"
   ]
  },
  {
   "cell_type": "code",
   "execution_count": null,
   "id": "72fcd02b-a43a-48e8-8269-5372af8619eb",
   "metadata": {},
   "outputs": [],
   "source": [
    "np.savetxt(\"loan-data-preprocessed.csv\", \n",
    "           loan_data, \n",
    "           fmt = '%s',\n",
    "           delimiter = ',')"
   ]
  }
 ],
 "metadata": {
  "kernelspec": {
   "display_name": "Python 3 (ipykernel)",
   "language": "python",
   "name": "python3"
  },
  "language_info": {
   "codemirror_mode": {
    "name": "ipython",
    "version": 3
   },
   "file_extension": ".py",
   "mimetype": "text/x-python",
   "name": "python",
   "nbconvert_exporter": "python",
   "pygments_lexer": "ipython3",
   "version": "3.12.3"
  },
  "widgets": {
   "application/vnd.jupyter.widget-state+json": {
    "state": {},
    "version_major": 2,
    "version_minor": 0
   }
  }
 },
 "nbformat": 4,
 "nbformat_minor": 5
}
